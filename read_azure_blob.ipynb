{
 "cells": [
  {
   "cell_type": "code",
   "execution_count": 1,
   "metadata": {},
   "outputs": [],
   "source": [
    "from azure.storage.blob import BlobClient, BlobServiceClient\n",
    "import os\n"
   ]
  },
  {
   "cell_type": "code",
   "execution_count": 2,
   "metadata": {},
   "outputs": [],
   "source": [
    "connection_string = \"DefaultEndpointsProtocol=https;AccountName=mvhmodelstore;AccountKey=QfsRAWBsD7hJyD1W/NP/X6EoZebAOC4cfvKRHpsNBRsJ/aiS+jsRTUFcZpjznClm5QdQDdi8fdx5wQ0EASFvQg==;EndpointSuffix=core.windows.net\"\n",
    "blob = BlobClient.from_connection_string(\n",
    "    conn_str=connection_string,\n",
    "    container_name=\"models\",\n",
    "    blob_name=\"ML model/All_collections/All_collection_scatterplot.html\",\n",
    ")\n"
   ]
  },
  {
   "cell_type": "code",
   "execution_count": 3,
   "metadata": {},
   "outputs": [],
   "source": [
    "blob_service_client = BlobServiceClient.from_connection_string(connection_string)\n",
    "# open the container \"models\"\n",
    "models_container = blob_service_client.get_container_client(\"models\")\n"
   ]
  },
  {
   "cell_type": "code",
   "execution_count": 4,
   "metadata": {},
   "outputs": [
    {
     "name": "stdout",
     "output_type": "stream",
     "text": [
      "ML model/.DS_Store\n",
      "ML model/All_collections/All_collection_scatterplot.html\n",
      "ML model/All_collections/All_collections_scaler.pkl\n",
      "ML model/alienfrensnft/alienfrensnft_scaler.pkl\n",
      "ML model/alienfrensnft/alienfrensnft_scatterplot.html\n",
      "ML model/alpacadabraz/alpacadabraz_scaler.pkl\n",
      "ML model/alpacadabraz/alpacadabraz_scatterplot.html\n",
      "ML model/azuki/azuki_price_pred_model.pkl\n",
      "ML model/azuki/azuki_scaler.pkl\n",
      "ML model/azuki/azuki_scatterplot.html\n",
      "ML model/bored-ape-kennel-club/bored-ape-kennel-club_scaler.pkl\n",
      "ML model/bored-ape-kennel-club/bored-ape-kennel-club_scatterplot.html\n",
      "ML model/boredapeyachtclub/boredapeyachtclub_price_pred_model.pkl\n",
      "ML model/boredapeyachtclub/boredapeyachtclub_scaler.pkl\n",
      "ML model/boredapeyachtclub/boredapeyachtclub_scatterplot.html\n",
      "ML model/cool-cats-nft/cool-cats-nft_scaler.pkl\n",
      "ML model/cool-cats-nft/cool-cats-nft_scatterplot.html\n",
      "ML model/cryptoadz-by-gremplin/cryptoadz-by-gremplin_scaler.pkl\n",
      "ML model/cryptoadz-by-gremplin/cryptoadz-by-gremplin_scatterplot.html\n",
      "ML model/cryptomories/cryptomories_price_pred_model.pkl\n",
      "ML model/cryptomories/cryptomories_scaler.pkl\n",
      "ML model/cryptomories/cryptomories_scatterplot.html\n",
      "ML model/cryptopunks/cryptopunks_price_pred_model.pkl\n",
      "ML model/cryptopunks/cryptopunks_scaler.pkl\n",
      "ML model/cryptopunks/cryptopunks_scatterplot.html\n",
      "ML model/deadfellaz/deadfellaz_price_pred_model.pkl\n",
      "ML model/deadfellaz/deadfellaz_scaler.pkl\n",
      "ML model/deadfellaz/deadfellaz_scatterplot.html\n",
      "ML model/doodledogsofficial/doodledogsofficial_scaler.pkl\n",
      "ML model/doodledogsofficial/doodledogsofficial_scatterplot.html\n",
      "ML model/doodles-official/doodles-official_scaler.pkl\n",
      "ML model/doodles-official/doodles-official_scatterplot.html\n",
      "ML model/fluf-world/fluf-world_price_pred_model.pkl\n",
      "ML model/fluf-world/fluf-world_scaler.pkl\n",
      "ML model/fluf-world/fluf-world_scatterplot.html\n",
      "ML model/gutterdogs/gutterdogs_price_pred_model.pkl\n",
      "ML model/gutterdogs/gutterdogs_scaler.pkl\n",
      "ML model/gutterdogs/gutterdogs_scatterplot.html\n",
      "ML model/mfers/mfers_price_pred_model.pkl\n",
      "ML model/mfers/mfers_scaler.pkl\n",
      "ML model/mfers/mfers_scatterplot.html\n",
      "ML model/pepsi-mic-drop/pepsi-mic-drop_price_pred_model.pkl\n",
      "ML model/pepsi-mic-drop/pepsi-mic-drop_scaler.pkl\n",
      "ML model/pepsi-mic-drop/pepsi-mic-drop_scatterplot.html\n",
      "ML model/robotos-official/robotos-official_scaler.pkl\n",
      "ML model/robotos-official/robotos-official_scatterplot.html\n",
      "ML model/rumble-kong-league/rumble-kong-league_price_pred_model.pkl\n",
      "ML model/rumble-kong-league/rumble-kong-league_scaler.pkl\n",
      "ML model/rumble-kong-league/rumble-kong-league_scatterplot.html\n",
      "ML model/supducks/supducks_scaler.pkl\n",
      "ML model/supducks/supducks_scatterplot.html\n",
      "ML model/the-crypto-chicks/the-crypto-chicks_price_pred_model.pkl\n",
      "ML model/the-crypto-chicks/the-crypto-chicks_scaler.pkl\n",
      "ML model/the-crypto-chicks/the-crypto-chicks_scatterplot.html\n",
      "ML model/the-doge-pound/the-doge-pound_scaler.pkl\n",
      "ML model/the-doge-pound/the-doge-pound_scatterplot.html\n",
      "ML model/toucan-gang/toucan-gang_price_pred_model.pkl\n",
      "ML model/toucan-gang/toucan-gang_scaler.pkl\n",
      "ML model/toucan-gang/toucan-gang_scatterplot.html\n",
      "ML model/world-of-women-nft/world-of-women-nft_price_pred_model.pkl\n",
      "ML model/world-of-women-nft/world-of-women-nft_scaler.pkl\n",
      "ML model/world-of-women-nft/world-of-women-nft_scatterplot.html\n"
     ]
    }
   ],
   "source": [
    "# List blobs in container\n",
    "for blob in models_container.list_blobs():\n",
    "    print(blob.name)\n",
    "    # skip blob name containing .DS_Store\n",
    "    if \".DS_Store\" in blob.name:\n",
    "        continue\n",
    "    blob_client = BlobClient.from_connection_string(\n",
    "        conn_str=connection_string, container_name=\"models\", blob_name=blob.name\n",
    "    )\n",
    "    file_path = f\"./downloads/{blob.name}\"\n",
    "    # remove last everything after the last / from file_path\n",
    "    file_path = file_path.rsplit(\"/\", 1)[0]\n",
    "    # create the directory if it doesn't exist\n",
    "    if not os.path.exists(file_path):\n",
    "        os.makedirs(file_path)\n",
    "    with open(f\"./downloads/{blob.name}\", \"wb\") as my_blob:\n",
    "        blob_data = blob_client.download_blob()\n",
    "        blob_data.readinto(my_blob)\n"
   ]
  },
  {
   "cell_type": "code",
   "execution_count": null,
   "metadata": {},
   "outputs": [],
   "source": []
  }
 ],
 "metadata": {
  "interpreter": {
   "hash": "631af46dfe2aa06b02954c5167e64b1b30970221264e4bda1b15943a0af226c8"
  },
  "kernelspec": {
   "display_name": "Python 3.9.7 64-bit ('base': conda)",
   "language": "python",
   "name": "python3"
  },
  "language_info": {
   "codemirror_mode": {
    "name": "ipython",
    "version": 3
   },
   "file_extension": ".py",
   "mimetype": "text/x-python",
   "name": "python",
   "nbconvert_exporter": "python",
   "pygments_lexer": "ipython3",
   "version": "3.9.7"
  },
  "orig_nbformat": 4
 },
 "nbformat": 4,
 "nbformat_minor": 2
}
