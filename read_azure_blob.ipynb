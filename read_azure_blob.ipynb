{
 "cells": [
  {
   "cell_type": "code",
   "execution_count": 29,
   "metadata": {},
   "outputs": [],
   "source": [
    "from azure.storage.blob import BlobClient, BlobServiceClient\n",
    "import os"
   ]
  },
  {
   "cell_type": "code",
   "execution_count": 18,
   "metadata": {},
   "outputs": [],
   "source": [
    "connection_string = \"DefaultEndpointsProtocol=https;AccountName=mvhmodelstore;AccountKey=QfsRAWBsD7hJyD1W/NP/X6EoZebAOC4cfvKRHpsNBRsJ/aiS+jsRTUFcZpjznClm5QdQDdi8fdx5wQ0EASFvQg==;EndpointSuffix=core.windows.net\"\n",
    "blob = BlobClient.from_connection_string(\n",
    "    conn_str=connection_string, container_name=\"models\", blob_name=\"ML model/All_collections/All_collection_scatterplot.html\"\n",
    ")\n"
   ]
  },
  {
   "cell_type": "code",
   "execution_count": 11,
   "metadata": {},
   "outputs": [],
   "source": [
    "blob_service_client = BlobServiceClient.from_connection_string(connection_string)\n",
    "#open the container \"models\"\n",
    "models_container = blob_service_client.get_container_client(\"models\")"
   ]
  },
  {
   "cell_type": "code",
   "execution_count": 28,
   "metadata": {},
   "outputs": [
    {
     "name": "stdout",
     "output_type": "stream",
     "text": [
      "ML model/.DS_Store\n",
      "ML model/All_collections/All_collection_scatterplot.html\n"
     ]
    },
    {
     "ename": "FileNotFoundError",
     "evalue": "[Errno 2] No such file or directory: './downloads/ML model/All_collections/All_collection_scatterplot.html'",
     "output_type": "error",
     "traceback": [
      "\u001b[0;31m---------------------------------------------------------------------------\u001b[0m",
      "\u001b[0;31mFileNotFoundError\u001b[0m                         Traceback (most recent call last)",
      "\u001b[0;32m/var/folders/05/dmkx5q1d5b73f0h3hs355b_80000gn/T/ipykernel_12909/2540732590.py\u001b[0m in \u001b[0;36m<module>\u001b[0;34m\u001b[0m\n\u001b[1;32m      7\u001b[0m         \u001b[0mconn_str\u001b[0m\u001b[0;34m=\u001b[0m\u001b[0mconnection_string\u001b[0m\u001b[0;34m,\u001b[0m \u001b[0mcontainer_name\u001b[0m\u001b[0;34m=\u001b[0m\u001b[0;34m\"models\"\u001b[0m\u001b[0;34m,\u001b[0m \u001b[0mblob_name\u001b[0m\u001b[0;34m=\u001b[0m\u001b[0mblob\u001b[0m\u001b[0;34m.\u001b[0m\u001b[0mname\u001b[0m\u001b[0;34m\u001b[0m\u001b[0;34m\u001b[0m\u001b[0m\n\u001b[1;32m      8\u001b[0m         )       \n\u001b[0;32m----> 9\u001b[0;31m         \u001b[0;32mwith\u001b[0m \u001b[0mopen\u001b[0m\u001b[0;34m(\u001b[0m\u001b[0;34mf\"./downloads/{blob.name}\"\u001b[0m\u001b[0;34m,\u001b[0m \u001b[0;34m\"wb\"\u001b[0m\u001b[0;34m)\u001b[0m \u001b[0;32mas\u001b[0m \u001b[0mmy_blob\u001b[0m\u001b[0;34m:\u001b[0m\u001b[0;34m\u001b[0m\u001b[0;34m\u001b[0m\u001b[0m\n\u001b[0m\u001b[1;32m     10\u001b[0m             \u001b[0mblob_data\u001b[0m \u001b[0;34m=\u001b[0m \u001b[0mblob_client\u001b[0m\u001b[0;34m.\u001b[0m\u001b[0mdownload_blob\u001b[0m\u001b[0;34m(\u001b[0m\u001b[0;34m)\u001b[0m\u001b[0;34m\u001b[0m\u001b[0;34m\u001b[0m\u001b[0m\n\u001b[1;32m     11\u001b[0m             \u001b[0mblob_data\u001b[0m\u001b[0;34m.\u001b[0m\u001b[0mreadinto\u001b[0m\u001b[0;34m(\u001b[0m\u001b[0mmy_blob\u001b[0m\u001b[0;34m)\u001b[0m\u001b[0;34m\u001b[0m\u001b[0;34m\u001b[0m\u001b[0m\n",
      "\u001b[0;31mFileNotFoundError\u001b[0m: [Errno 2] No such file or directory: './downloads/ML model/All_collections/All_collection_scatterplot.html'"
     ]
    }
   ],
   "source": [
    "# List blobs in container\n",
    "for blob in models_container.list_blobs():\n",
    "    print(blob.name)\n",
    "    #skip blob name containing .DS_Store\n",
    "    if \".DS_Store\" not in blob.name:\n",
    "        blob_client = BlobClient.from_connection_string(\n",
    "        conn_str=connection_string, container_name=\"models\", blob_name=blob.name\n",
    "        )\n",
    "        file_path = f\"./downloads/{blob.name}\"\n",
    "        #remove last everything after the last / from file_path\n",
    "        file_path = file_path.rsplit(\"/\", 1)[0]\n",
    "        #create the directory if it doesn't exist\n",
    "        if not os.path.exists(file_path):\n",
    "            os.makedirs(file_path)\n",
    "        with open(f\"./downloads/{blob.name}\", \"wb\") as my_blob:\n",
    "            blob_data = blob_client.download_blob()\n",
    "            blob_data.readinto(my_blob)\n"
   ]
  },
  {
   "cell_type": "code",
   "execution_count": null,
   "metadata": {},
   "outputs": [],
   "source": []
  }
 ],
 "metadata": {
  "interpreter": {
   "hash": "631af46dfe2aa06b02954c5167e64b1b30970221264e4bda1b15943a0af226c8"
  },
  "kernelspec": {
   "display_name": "Python 3.9.7 64-bit ('base': conda)",
   "language": "python",
   "name": "python3"
  },
  "language_info": {
   "codemirror_mode": {
    "name": "ipython",
    "version": 3
   },
   "file_extension": ".py",
   "mimetype": "text/x-python",
   "name": "python",
   "nbconvert_exporter": "python",
   "pygments_lexer": "ipython3",
   "version": "3.9.7"
  },
  "orig_nbformat": 4
 },
 "nbformat": 4,
 "nbformat_minor": 2
}
