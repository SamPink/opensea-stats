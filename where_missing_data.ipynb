{
 "cells": [
  {
   "cell_type": "code",
   "execution_count": 23,
   "metadata": {},
   "outputs": [],
   "source": [
    "import opensea.database as db\n",
    "import pandas as pd"
   ]
  },
  {
   "cell_type": "code",
   "execution_count": 24,
   "metadata": {},
   "outputs": [],
   "source": [
    "bayc_listings = db.read_mongo(collection=\"boredapeyachtclub_listings\", return_df=True)"
   ]
  },
  {
   "cell_type": "code",
   "execution_count": 25,
   "metadata": {},
   "outputs": [],
   "source": [
    "#drop the duplicates\n",
    "bayc_listings = bayc_listings.drop_duplicates(subset=['listing_id'])"
   ]
  },
  {
   "cell_type": "code",
   "execution_count": 26,
   "metadata": {},
   "outputs": [],
   "source": [
    "#sort by time\n",
    "bayc_listings = bayc_listings.sort_values(by=['listing_id'])"
   ]
  },
  {
   "cell_type": "code",
   "execution_count": 27,
   "metadata": {},
   "outputs": [],
   "source": [
    "#get the time difference between listings in minutes\n",
    "bayc_listings['time_diff'] = (bayc_listings['time'] - bayc_listings['time'].shift(1)).dt.total_seconds()/60"
   ]
  },
  {
   "cell_type": "code",
   "execution_count": 31,
   "metadata": {},
   "outputs": [],
   "source": [
    "#sort my time difference high to low\n",
    "bayc_listings = bayc_listings.sort_values(by=['time_diff'], ascending=False)"
   ]
  },
  {
   "cell_type": "code",
   "execution_count": 41,
   "metadata": {},
   "outputs": [],
   "source": [
    "#add a column for month\n",
    "bayc_listings['month'] = pd.DatetimeIndex(bayc_listings['time']).month\n",
    "#add column for day\n",
    "bayc_listings['day'] = pd.DatetimeIndex(bayc_listings['time']).day\n",
    "#add column for hour\n",
    "bayc_listings['hour'] = pd.DatetimeIndex(bayc_listings['time']).hour"
   ]
  },
  {
   "cell_type": "code",
   "execution_count": 48,
   "metadata": {},
   "outputs": [],
   "source": [
    "bayc_listings_jan = bayc_listings[bayc_listings['month'] == 1]"
   ]
  },
  {
   "cell_type": "code",
   "execution_count": 52,
   "metadata": {},
   "outputs": [
    {
     "data": {
      "text/plain": [
       "<AxesSubplot:xlabel='day'>"
      ]
     },
     "execution_count": 52,
     "metadata": {},
     "output_type": "execute_result"
    },
    {
     "data": {
      "image/png": "[encoded data removed]",
      "text/plain": [
       "<Figure size 1800x432 with 1 Axes>"
      ]
     },
     "metadata": {
      "needs_background": "light"
     },
     "output_type": "display_data"
    }
   ],
   "source": [
    "#plot the number of listings per day in January\n",
    "bayc_listings_jan.groupby(['day']).count()['listing_id'].plot(figsize=(25,6), kind='bar')"
   ]
  },
  {
   "cell_type": "code",
   "execution_count": null,
   "metadata": {},
   "outputs": [],
   "source": []
  }
 ],
 "metadata": {
  "interpreter": {
   "hash": "631af46dfe2aa06b02954c5167e64b1b30970221264e4bda1b15943a0af226c8"
  },
  "kernelspec": {
   "display_name": "Python 3.9.7 64-bit ('base': conda)",
   "language": "python",
   "name": "python3"
  },
  "language_info": {
   "codemirror_mode": {
    "name": "ipython",
    "version": 3
   },
   "file_extension": ".py",
   "mimetype": "text/x-python",
   "name": "python",
   "nbconvert_exporter": "python",
   "pygments_lexer": "ipython3",
   "version": "3.9.7"
  },
  "orig_nbformat": 4
 },
 "nbformat": 4,
 "nbformat_minor": 2
}
