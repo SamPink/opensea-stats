{
 "cells": [
  {
   "cell_type": "code",
   "execution_count": 1,
   "metadata": {},
   "outputs": [],
   "source": [
    "import pandas as pd\n",
    "import datetime as dt\n",
    "import numpy as np\n",
    "import plotly.express as px\n",
    "\n",
    "import opensea.opensea_events as Events\n",
    "import opensea.database as Database"
   ]
  },
  {
   "cell_type": "code",
   "execution_count": 2,
   "metadata": {},
   "outputs": [],
   "source": [
    "#read from mongoDB\n",
    "ag_sales = Database.read_mongo('ape-gang_sales',return_df=True).drop_duplicates(subset=['asset_id','time'])\n",
    "ag_old_sales = Database.read_mongo('ape-gang-old_sales',return_df=True).drop_duplicates(subset=['asset_id','time'])\n",
    "apes=Database.read_mongo('ape-gang-old_traits',return_df=True)\n",
    "\n",
    "sales = ag_sales.append(ag_old_sales)"
   ]
  },
  {
   "cell_type": "code",
   "execution_count": 3,
   "metadata": {},
   "outputs": [],
   "source": [
    "day_n = 30\n",
    "recent_sales = sales[sales.time > dt.datetime.now()-dt.timedelta(days=day_n)]\n",
    "recent_sales = recent_sales[['asset_id','sale_price','time']].merge(apes, on='asset_id',how='left').sort_values('sale_price',ascending=False)"
   ]
  },
  {
   "cell_type": "code",
   "execution_count": 4,
   "metadata": {},
   "outputs": [],
   "source": [
    "#sort by time\n",
    "recent_sales = recent_sales.sort_values('time',ascending=False)"
   ]
  },
  {
   "cell_type": "code",
   "execution_count": 5,
   "metadata": {},
   "outputs": [
    {
     "data": {
      "application/vnd.plotly.v1+json": {
       "config": {
        "plotlyServerURL": "https://plot.ly"
       },
       "data": [
        {
         "hovertemplate": "sale_price=%{x}<br>rarity_rank=%{y}<extra></extra>",
         "legendgroup": "",
         "marker": {
          "color": "#636efa",
          "symbol": "circle"
         },
         "mode": "markers",
         "name": "",
         "orientation": "v",
         "showlegend": false,
         "type": "scatter",
         "x": [
          0.29,
          0.29,
          0.399,
          0.3,
          0.4269,
          0.4,
          0.295,
          0.29,
          0.3,
          0.29,
          0.399,
          0.3,
          0.295,
          0.55,
          0.4,
          0.299,
          0.35,
          0.399,
          0.3,
          0.33,
          0.295,
          0.359,
          0.4,
          0.4,
          0.297,
          0.55,
          0.35,
          0.3,
          0.33,
          0.31,
          0.45,
          0.55,
          0.299,
          0.29,
          0.5,
          0.25,
          0.28,
          0.41,
          0.26,
          0.35,
          0.289,
          0.28,
          0.28,
          0.33,
          0.25,
          0.298,
          0.35,
          1.2,
          0.25,
          0.3,
          0.299,
          0.33,
          0.3,
          0.3,
          0.3,
          0.3,
          0.29,
          0.289,
          0.28,
          0.279,
          0.25,
          0.2888,
          0.25,
          0.26,
          0.31,
          0.35,
          0.25,
          0.24,
          1.1,
          0.25,
          0.25,
          0.31,
          0.28,
          0.32,
          0.3,
          0.29,
          0.31,
          0.3,
          0.297,
          0.3289,
          0.3,
          0.3,
          0.32,
          0.3,
          0.3,
          0.299999,
          0.55,
          0.38,
          0.8,
          0.35,
          0.299,
          0.3749,
          0.5,
          0.31,
          0.33,
          0.3,
          0.4999,
          0.275,
          0.3,
          0.335,
          0.29,
          0.3439,
          0.3,
          0.36,
          0.35,
          0.33,
          0.44,
          0.57,
          0.33,
          0.3,
          0.29,
          0.35,
          0.28,
          0.29,
          0.29,
          0.52,
          0.26,
          0.349,
          0.3369,
          0.27,
          0.4999,
          0.39,
          0.55,
          0.299,
          0.41,
          0.3,
          0.35,
          0.32,
          0.33,
          0.369,
          0.299,
          0.3999,
          0.85,
          0.3,
          0.289,
          0.275,
          0.3,
          0.299,
          0.825,
          0.274,
          0.33,
          0.39,
          0.6,
          0.5,
          0.298,
          0.3,
          0.555,
          0.305,
          0.4,
          0.6,
          0.305,
          0.32,
          0.35,
          0.3999,
          0.35,
          0.45,
          0.38,
          0.45,
          0.33,
          1,
          0.38,
          0.5,
          0.75,
          0.36,
          0.97,
          0.344,
          0.369,
          0.399,
          0.333,
          0.31,
          0.3,
          0.3,
          1.99,
          0.512,
          0.287,
          0.6,
          0.3,
          0.3,
          0.296,
          0.299,
          0.3,
          0.33,
          0.3,
          0.349,
          0.5,
          0.5,
          0.2999,
          0.375,
          0.499,
          0.29,
          0.6,
          0.825,
          0.35,
          0.4,
          0.001,
          0.289,
          0.42,
          0.59,
          0.29,
          0.29,
          0.3,
          0.3,
          0.48,
          0.548,
          0.445,
          0.325,
          0.35,
          0.4,
          0.42,
          0.299,
          1.1,
          0.65,
          0.4,
          0.16,
          0.25,
          0.389,
          0.29,
          0.3,
          0.31,
          0.4,
          0.299,
          0.3,
          0.3,
          0.295,
          0.3,
          0.3,
          0.33,
          0.29,
          0.33,
          0.29,
          0.36,
          0.55,
          0.29,
          0.298,
          0.289,
          0.288,
          0.26,
          0.32,
          0.33,
          0.27,
          0.45,
          0.4,
          0.299,
          0.297,
          0.3003,
          0.4,
          0.345,
          0.55,
          0.42,
          0.39,
          0.3,
          1,
          0.359,
          0.31,
          0.32,
          0.349,
          0.369,
          0.4,
          0.36,
          0.3,
          0.333,
          0.3,
          0.27,
          2,
          0.4,
          0.3,
          0.69,
          0.36,
          0.37,
          0.59,
          0.73,
          0.36,
          0.525,
          0.57,
          0.42,
          0.388,
          0.8,
          0.6,
          0.4999,
          0.38,
          0.5,
          0.38,
          0.4,
          0.39,
          0.45,
          0.5,
          0.789,
          0.37,
          0.55,
          0.55,
          0.99,
          0.449,
          0.44,
          0.3999,
          0.3999,
          0.5,
          0.6,
          0.6,
          0.45,
          0.435,
          0.435,
          0.6,
          0.45,
          0.5,
          0.47,
          0.45,
          0.5,
          0.6969,
          0.69,
          0.8,
          0.55,
          0.69,
          0.5,
          0.4,
          0.5,
          0.5,
          0.47,
          0.6,
          0.6,
          0.465,
          0.44,
          0.6,
          0.5,
          0.46,
          0.88,
          0.475,
          0.4,
          0.4069,
          0.49,
          0.45,
          0.6,
          0.5,
          0.5,
          1,
          0.42,
          0.475,
          0.342,
          0.45,
          0.4999999,
          0.5,
          0.4799,
          0.4,
          0.41,
          0.4,
          0.38,
          0.38,
          0.4,
          0.38,
          0.45,
          0.4,
          0.4969,
          0.37,
          0.34,
          0.49,
          0.5,
          3,
          0.49,
          0.49,
          0.49,
          0.49,
          0.49,
          0.489,
          0.438,
          0.43,
          0.425,
          0.42,
          0.4,
          0.4,
          0.4,
          0.399,
          0.49,
          0.388,
          0.39,
          0.33,
          0.33,
          0.45,
          0.39,
          0.38,
          0.45,
          0.39,
          0.42,
          0.4,
          0.37,
          0.4,
          0.36,
          0.32,
          0.39,
          0.33,
          0.36,
          0.4,
          0.76,
          0.36,
          0.36,
          0.42,
          0.5,
          0.58,
          0.4,
          0.34,
          0.35,
          0.345,
          0.33,
          0.33,
          0.333,
          0.35,
          0.3169,
          0.33,
          0.4,
          0.5,
          0.3,
          0.29,
          0.33,
          0.35,
          0.6,
          0.29,
          0.35,
          0.42,
          0.342,
          0.4,
          0.35,
          0.31,
          0.35,
          0.35,
          0.305,
          0.469,
          0.3,
          0.3,
          0.3,
          0.3,
          0.3,
          0.3,
          0.35,
          0.3,
          0.3,
          0.5999,
          0.3,
          0.3,
          0.3,
          0.35,
          0.3,
          0.69,
          0.35,
          0.3,
          0.28,
          0.275,
          0.299,
          0.5,
          0.2899,
          0.299,
          0.286,
          0.285,
          0.3,
          0.55,
          0.3,
          0.4,
          0.285,
          0.28,
          0.29,
          0.275,
          0.282,
          0.275,
          0.28,
          0.284,
          0.3,
          1.2,
          0.32,
          0.285,
          0.299,
          0.284,
          0.1385,
          1.1,
          0.3,
          0.4,
          0.4,
          0.5,
          0.295,
          0.35,
          0.569,
          0.37,
          0.35,
          0.29,
          0.3,
          0.45,
          0.285,
          0.275,
          0.28,
          0.289,
          0.275,
          0.29,
          0.279,
          0.36,
          0.285,
          0.35,
          0.4,
          0.33,
          0.4,
          0.35,
          0.33,
          0.23,
          0.28,
          0.31,
          0.5,
          0.45,
          0.3999,
          0.26,
          0.3,
          0.28,
          0.28999,
          0.625,
          0.4,
          0.49,
          0.49,
          0.3,
          0.299,
          0.23,
          0.2699
         ],
         "xaxis": "x",
         "y": [
          null,
          null,
          null,
          null,
          null,
          null,
          null,
          null,
          null,
          null,
          null,
          null,
          null,
          null,
          null,
          null,
          null,
          null,
          null,
          null,
          null,
          null,
          null,
          null,
          null,
          null,
          null,
          null,
          null,
          null,
          null,
          null,
          null,
          null,
          null,
          null,
          null,
          null,
          null,
          null,
          null,
          null,
          null,
          null,
          null,
          null,
          null,
          null,
          null,
          null,
          null,
          null,
          null,
          null,
          null,
          null,
          null,
          null,
          null,
          null,
          null,
          null,
          null,
          null,
          null,
          null,
          null,
          null,
          null,
          null,
          null,
          null,
          null,
          null,
          null,
          null,
          null,
          null,
          null,
          null,
          null,
          null,
          null,
          null,
          null,
          null,
          null,
          null,
          null,
          null,
          null,
          null,
          null,
          null,
          null,
          null,
          null,
          null,
          null,
          null,
          null,
          null,
          null,
          null,
          null,
          null,
          null,
          null,
          null,
          null,
          null,
          null,
          null,
          null,
          null,
          null,
          null,
          null,
          null,
          null,
          null,
          null,
          null,
          null,
          null,
          null,
          null,
          null,
          null,
          null,
          null,
          null,
          null,
          null,
          null,
          null,
          null,
          null,
          null,
          null,
          null,
          null,
          null,
          null,
          null,
          null,
          null,
          null,
          null,
          null,
          null,
          null,
          null,
          null,
          null,
          null,
          null,
          null,
          null,
          null,
          null,
          null,
          null,
          null,
          null,
          null,
          null,
          null,
          null,
          null,
          null,
          null,
          null,
          null,
          null,
          null,
          null,
          null,
          null,
          null,
          null,
          null,
          null,
          null,
          null,
          null,
          null,
          null,
          null,
          null,
          null,
          null,
          null,
          null,
          null,
          null,
          null,
          null,
          null,
          null,
          null,
          null,
          null,
          null,
          null,
          null,
          null,
          null,
          null,
          null,
          null,
          null,
          null,
          null,
          null,
          null,
          null,
          null,
          null,
          null,
          null,
          null,
          null,
          null,
          null,
          null,
          null,
          null,
          null,
          null,
          null,
          null,
          null,
          null,
          null,
          null,
          null,
          null,
          null,
          null,
          null,
          null,
          null,
          null,
          null,
          null,
          null,
          null,
          null,
          null,
          null,
          null,
          null,
          null,
          null,
          null,
          null,
          null,
          null,
          null,
          null,
          null,
          null,
          null,
          null,
          null,
          null,
          null,
          null,
          null,
          null,
          null,
          null,
          null,
          null,
          null,
          null,
          null,
          null,
          null,
          null,
          null,
          null,
          null,
          null,
          null,
          null,
          null,
          null,
          null,
          null,
          null,
          null,
          null,
          null,
          null,
          null,
          null,
          null,
          null,
          null,
          null,
          null,
          null,
          null,
          null,
          null,
          null,
          null,
          null,
          null,
          null,
          null,
          null,
          null,
          null,
          null,
          null,
          null,
          null,
          null,
          null,
          null,
          null,
          null,
          null,
          null,
          null,
          null,
          null,
          null,
          null,
          null,
          null,
          null,
          null,
          null,
          null,
          null,
          null,
          null,
          null,
          null,
          null,
          null,
          null,
          null,
          null,
          null,
          null,
          null,
          null,
          null,
          null,
          null,
          null,
          null,
          null,
          null,
          null,
          null,
          null,
          null,
          null,
          null,
          null,
          null,
          null,
          null,
          null,
          null,
          null,
          null,
          null,
          null,
          null,
          null,
          null,
          null,
          null,
          null,
          null,
          null,
          null,
          null,
          null,
          null,
          null,
          null,
          null,
          null,
          null,
          null,
          null,
          null,
          null,
          null,
          null,
          null,
          null,
          null,
          null,
          null,
          null,
          null,
          null,
          null,
          null,
          null,
          null,
          null,
          null,
          null,
          null,
          null,
          null,
          null,
          null,
          null,
          null,
          null,
          null,
          null,
          null,
          null,
          null,
          null,
          null,
          null,
          null,
          null,
          null,
          null,
          null,
          null,
          null,
          null,
          null,
          null,
          null,
          null,
          null,
          null,
          null,
          null,
          null,
          null,
          null,
          null,
          null,
          null,
          null,
          null,
          null,
          null,
          null,
          null,
          null,
          null,
          null,
          null,
          null,
          null,
          null,
          null,
          null,
          null,
          null,
          null,
          null,
          null,
          null,
          null,
          null,
          null,
          null,
          null,
          null,
          null,
          null,
          null,
          null,
          null,
          null,
          null,
          null,
          null,
          null,
          null,
          null,
          null,
          null,
          null,
          null,
          null,
          null,
          null,
          null,
          null,
          null,
          null,
          null,
          null,
          null,
          null,
          null,
          null,
          null,
          null,
          null,
          null,
          null,
          null,
          null,
          null
         ],
         "yaxis": "y"
        }
       ],
       "layout": {
        "legend": {
         "tracegroupgap": 0
        },
        "margin": {
         "t": 60
        },
        "template": {
         "data": {
          "bar": [
           {
            "error_x": {
             "color": "#2a3f5f"
            },
            "error_y": {
             "color": "#2a3f5f"
            },
            "marker": {
             "line": {
              "color": "#E5ECF6",
              "width": 0.5
             },
             "pattern": {
              "fillmode": "overlay",
              "size": 10,
              "solidity": 0.2
             }
            },
            "type": "bar"
           }
          ],
          "barpolar": [
           {
            "marker": {
             "line": {
              "color": "#E5ECF6",
              "width": 0.5
             },
             "pattern": {
              "fillmode": "overlay",
              "size": 10,
              "solidity": 0.2
             }
            },
            "type": "barpolar"
           }
          ],
          "carpet": [
           {
            "aaxis": {
             "endlinecolor": "#2a3f5f",
             "gridcolor": "white",
             "linecolor": "white",
             "minorgridcolor": "white",
             "startlinecolor": "#2a3f5f"
            },
            "baxis": {
             "endlinecolor": "#2a3f5f",
             "gridcolor": "white",
             "linecolor": "white",
             "minorgridcolor": "white",
             "startlinecolor": "#2a3f5f"
            },
            "type": "carpet"
           }
          ],
          "choropleth": [
           {
            "colorbar": {
             "outlinewidth": 0,
             "ticks": ""
            },
            "type": "choropleth"
           }
          ],
          "contour": [
           {
            "colorbar": {
             "outlinewidth": 0,
             "ticks": ""
            },
            "colorscale": [
             [
              0,
              "#0d0887"
             ],
             [
              0.1111111111111111,
              "#46039f"
             ],
             [
              0.2222222222222222,
              "#7201a8"
             ],
             [
              0.3333333333333333,
              "#9c179e"
             ],
             [
              0.4444444444444444,
              "#bd3786"
             ],
             [
              0.5555555555555556,
              "#d8576b"
             ],
             [
              0.6666666666666666,
              "#ed7953"
             ],
             [
              0.7777777777777778,
              "#fb9f3a"
             ],
             [
              0.8888888888888888,
              "#fdca26"
             ],
             [
              1,
              "#f0f921"
             ]
            ],
            "type": "contour"
           }
          ],
          "contourcarpet": [
           {
            "colorbar": {
             "outlinewidth": 0,
             "ticks": ""
            },
            "type": "contourcarpet"
           }
          ],
          "heatmap": [
           {
            "colorbar": {
             "outlinewidth": 0,
             "ticks": ""
            },
            "colorscale": [
             [
              0,
              "#0d0887"
             ],
             [
              0.1111111111111111,
              "#46039f"
             ],
             [
              0.2222222222222222,
              "#7201a8"
             ],
             [
              0.3333333333333333,
              "#9c179e"
             ],
             [
              0.4444444444444444,
              "#bd3786"
             ],
             [
              0.5555555555555556,
              "#d8576b"
             ],
             [
              0.6666666666666666,
              "#ed7953"
             ],
             [
              0.7777777777777778,
              "#fb9f3a"
             ],
             [
              0.8888888888888888,
              "#fdca26"
             ],
             [
              1,
              "#f0f921"
             ]
            ],
            "type": "heatmap"
           }
          ],
          "heatmapgl": [
           {
            "colorbar": {
             "outlinewidth": 0,
             "ticks": ""
            },
            "colorscale": [
             [
              0,
              "#0d0887"
             ],
             [
              0.1111111111111111,
              "#46039f"
             ],
             [
              0.2222222222222222,
              "#7201a8"
             ],
             [
              0.3333333333333333,
              "#9c179e"
             ],
             [
              0.4444444444444444,
              "#bd3786"
             ],
             [
              0.5555555555555556,
              "#d8576b"
             ],
             [
              0.6666666666666666,
              "#ed7953"
             ],
             [
              0.7777777777777778,
              "#fb9f3a"
             ],
             [
              0.8888888888888888,
              "#fdca26"
             ],
             [
              1,
              "#f0f921"
             ]
            ],
            "type": "heatmapgl"
           }
          ],
          "histogram": [
           {
            "marker": {
             "pattern": {
              "fillmode": "overlay",
              "size": 10,
              "solidity": 0.2
             }
            },
            "type": "histogram"
           }
          ],
          "histogram2d": [
           {
            "colorbar": {
             "outlinewidth": 0,
             "ticks": ""
            },
            "colorscale": [
             [
              0,
              "#0d0887"
             ],
             [
              0.1111111111111111,
              "#46039f"
             ],
             [
              0.2222222222222222,
              "#7201a8"
             ],
             [
              0.3333333333333333,
              "#9c179e"
             ],
             [
              0.4444444444444444,
              "#bd3786"
             ],
             [
              0.5555555555555556,
              "#d8576b"
             ],
             [
              0.6666666666666666,
              "#ed7953"
             ],
             [
              0.7777777777777778,
              "#fb9f3a"
             ],
             [
              0.8888888888888888,
              "#fdca26"
             ],
             [
              1,
              "#f0f921"
             ]
            ],
            "type": "histogram2d"
           }
          ],
          "histogram2dcontour": [
           {
            "colorbar": {
             "outlinewidth": 0,
             "ticks": ""
            },
            "colorscale": [
             [
              0,
              "#0d0887"
             ],
             [
              0.1111111111111111,
              "#46039f"
             ],
             [
              0.2222222222222222,
              "#7201a8"
             ],
             [
              0.3333333333333333,
              "#9c179e"
             ],
             [
              0.4444444444444444,
              "#bd3786"
             ],
             [
              0.5555555555555556,
              "#d8576b"
             ],
             [
              0.6666666666666666,
              "#ed7953"
             ],
             [
              0.7777777777777778,
              "#fb9f3a"
             ],
             [
              0.8888888888888888,
              "#fdca26"
             ],
             [
              1,
              "#f0f921"
             ]
            ],
            "type": "histogram2dcontour"
           }
          ],
          "mesh3d": [
           {
            "colorbar": {
             "outlinewidth": 0,
             "ticks": ""
            },
            "type": "mesh3d"
           }
          ],
          "parcoords": [
           {
            "line": {
             "colorbar": {
              "outlinewidth": 0,
              "ticks": ""
             }
            },
            "type": "parcoords"
           }
          ],
          "pie": [
           {
            "automargin": true,
            "type": "pie"
           }
          ],
          "scatter": [
           {
            "marker": {
             "colorbar": {
              "outlinewidth": 0,
              "ticks": ""
             }
            },
            "type": "scatter"
           }
          ],
          "scatter3d": [
           {
            "line": {
             "colorbar": {
              "outlinewidth": 0,
              "ticks": ""
             }
            },
            "marker": {
             "colorbar": {
              "outlinewidth": 0,
              "ticks": ""
             }
            },
            "type": "scatter3d"
           }
          ],
          "scattercarpet": [
           {
            "marker": {
             "colorbar": {
              "outlinewidth": 0,
              "ticks": ""
             }
            },
            "type": "scattercarpet"
           }
          ],
          "scattergeo": [
           {
            "marker": {
             "colorbar": {
              "outlinewidth": 0,
              "ticks": ""
             }
            },
            "type": "scattergeo"
           }
          ],
          "scattergl": [
           {
            "marker": {
             "colorbar": {
              "outlinewidth": 0,
              "ticks": ""
             }
            },
            "type": "scattergl"
           }
          ],
          "scattermapbox": [
           {
            "marker": {
             "colorbar": {
              "outlinewidth": 0,
              "ticks": ""
             }
            },
            "type": "scattermapbox"
           }
          ],
          "scatterpolar": [
           {
            "marker": {
             "colorbar": {
              "outlinewidth": 0,
              "ticks": ""
             }
            },
            "type": "scatterpolar"
           }
          ],
          "scatterpolargl": [
           {
            "marker": {
             "colorbar": {
              "outlinewidth": 0,
              "ticks": ""
             }
            },
            "type": "scatterpolargl"
           }
          ],
          "scatterternary": [
           {
            "marker": {
             "colorbar": {
              "outlinewidth": 0,
              "ticks": ""
             }
            },
            "type": "scatterternary"
           }
          ],
          "surface": [
           {
            "colorbar": {
             "outlinewidth": 0,
             "ticks": ""
            },
            "colorscale": [
             [
              0,
              "#0d0887"
             ],
             [
              0.1111111111111111,
              "#46039f"
             ],
             [
              0.2222222222222222,
              "#7201a8"
             ],
             [
              0.3333333333333333,
              "#9c179e"
             ],
             [
              0.4444444444444444,
              "#bd3786"
             ],
             [
              0.5555555555555556,
              "#d8576b"
             ],
             [
              0.6666666666666666,
              "#ed7953"
             ],
             [
              0.7777777777777778,
              "#fb9f3a"
             ],
             [
              0.8888888888888888,
              "#fdca26"
             ],
             [
              1,
              "#f0f921"
             ]
            ],
            "type": "surface"
           }
          ],
          "table": [
           {
            "cells": {
             "fill": {
              "color": "#EBF0F8"
             },
             "line": {
              "color": "white"
             }
            },
            "header": {
             "fill": {
              "color": "#C8D4E3"
             },
             "line": {
              "color": "white"
             }
            },
            "type": "table"
           }
          ]
         },
         "layout": {
          "annotationdefaults": {
           "arrowcolor": "#2a3f5f",
           "arrowhead": 0,
           "arrowwidth": 1
          },
          "autotypenumbers": "strict",
          "coloraxis": {
           "colorbar": {
            "outlinewidth": 0,
            "ticks": ""
           }
          },
          "colorscale": {
           "diverging": [
            [
             0,
             "#8e0152"
            ],
            [
             0.1,
             "#c51b7d"
            ],
            [
             0.2,
             "#de77ae"
            ],
            [
             0.3,
             "#f1b6da"
            ],
            [
             0.4,
             "#fde0ef"
            ],
            [
             0.5,
             "#f7f7f7"
            ],
            [
             0.6,
             "#e6f5d0"
            ],
            [
             0.7,
             "#b8e186"
            ],
            [
             0.8,
             "#7fbc41"
            ],
            [
             0.9,
             "#4d9221"
            ],
            [
             1,
             "#276419"
            ]
           ],
           "sequential": [
            [
             0,
             "#0d0887"
            ],
            [
             0.1111111111111111,
             "#46039f"
            ],
            [
             0.2222222222222222,
             "#7201a8"
            ],
            [
             0.3333333333333333,
             "#9c179e"
            ],
            [
             0.4444444444444444,
             "#bd3786"
            ],
            [
             0.5555555555555556,
             "#d8576b"
            ],
            [
             0.6666666666666666,
             "#ed7953"
            ],
            [
             0.7777777777777778,
             "#fb9f3a"
            ],
            [
             0.8888888888888888,
             "#fdca26"
            ],
            [
             1,
             "#f0f921"
            ]
           ],
           "sequentialminus": [
            [
             0,
             "#0d0887"
            ],
            [
             0.1111111111111111,
             "#46039f"
            ],
            [
             0.2222222222222222,
             "#7201a8"
            ],
            [
             0.3333333333333333,
             "#9c179e"
            ],
            [
             0.4444444444444444,
             "#bd3786"
            ],
            [
             0.5555555555555556,
             "#d8576b"
            ],
            [
             0.6666666666666666,
             "#ed7953"
            ],
            [
             0.7777777777777778,
             "#fb9f3a"
            ],
            [
             0.8888888888888888,
             "#fdca26"
            ],
            [
             1,
             "#f0f921"
            ]
           ]
          },
          "colorway": [
           "#636efa",
           "#EF553B",
           "#00cc96",
           "#ab63fa",
           "#FFA15A",
           "#19d3f3",
           "#FF6692",
           "#B6E880",
           "#FF97FF",
           "#FECB52"
          ],
          "font": {
           "color": "#2a3f5f"
          },
          "geo": {
           "bgcolor": "white",
           "lakecolor": "white",
           "landcolor": "#E5ECF6",
           "showlakes": true,
           "showland": true,
           "subunitcolor": "white"
          },
          "hoverlabel": {
           "align": "left"
          },
          "hovermode": "closest",
          "mapbox": {
           "style": "light"
          },
          "paper_bgcolor": "white",
          "plot_bgcolor": "#E5ECF6",
          "polar": {
           "angularaxis": {
            "gridcolor": "white",
            "linecolor": "white",
            "ticks": ""
           },
           "bgcolor": "#E5ECF6",
           "radialaxis": {
            "gridcolor": "white",
            "linecolor": "white",
            "ticks": ""
           }
          },
          "scene": {
           "xaxis": {
            "backgroundcolor": "#E5ECF6",
            "gridcolor": "white",
            "gridwidth": 2,
            "linecolor": "white",
            "showbackground": true,
            "ticks": "",
            "zerolinecolor": "white"
           },
           "yaxis": {
            "backgroundcolor": "#E5ECF6",
            "gridcolor": "white",
            "gridwidth": 2,
            "linecolor": "white",
            "showbackground": true,
            "ticks": "",
            "zerolinecolor": "white"
           },
           "zaxis": {
            "backgroundcolor": "#E5ECF6",
            "gridcolor": "white",
            "gridwidth": 2,
            "linecolor": "white",
            "showbackground": true,
            "ticks": "",
            "zerolinecolor": "white"
           }
          },
          "shapedefaults": {
           "line": {
            "color": "#2a3f5f"
           }
          },
          "ternary": {
           "aaxis": {
            "gridcolor": "white",
            "linecolor": "white",
            "ticks": ""
           },
           "baxis": {
            "gridcolor": "white",
            "linecolor": "white",
            "ticks": ""
           },
           "bgcolor": "#E5ECF6",
           "caxis": {
            "gridcolor": "white",
            "linecolor": "white",
            "ticks": ""
           }
          },
          "title": {
           "x": 0.05
          },
          "xaxis": {
           "automargin": true,
           "gridcolor": "white",
           "linecolor": "white",
           "ticks": "",
           "title": {
            "standoff": 15
           },
           "zerolinecolor": "white",
           "zerolinewidth": 2
          },
          "yaxis": {
           "automargin": true,
           "gridcolor": "white",
           "linecolor": "white",
           "ticks": "",
           "title": {
            "standoff": 15
           },
           "zerolinecolor": "white",
           "zerolinewidth": 2
          }
         }
        },
        "title": {
         "text": "Ape Gang Sales"
        },
        "xaxis": {
         "anchor": "y",
         "domain": [
          0,
          1
         ],
         "title": {
          "text": "sale_price"
         }
        },
        "yaxis": {
         "anchor": "x",
         "domain": [
          0,
          1
         ],
         "title": {
          "text": "rarity_rank"
         }
        }
       }
      }
     },
     "metadata": {},
     "output_type": "display_data"
    }
   ],
   "source": [
    "#plot rarity_rank and sale_price \n",
    "fig = px.scatter(recent_sales,x='sale_price',y='rarity_rank')\n",
    "fig.update_layout(title_text='Ape Gang Sales')\n",
    "fig.show()"
   ]
  },
  {
   "cell_type": "code",
   "execution_count": 6,
   "metadata": {},
   "outputs": [
    {
     "data": {
      "application/vnd.plotly.v1+json": {
       "config": {
        "plotlyServerURL": "https://plot.ly"
       },
       "data": [
        {
         "hovertemplate": "time=%{x}<br>sale_price=%{y}<extra></extra>",
         "legendgroup": "",
         "line": {
          "color": "#636efa",
          "dash": "solid"
         },
         "marker": {
          "symbol": "circle"
         },
         "mode": "lines",
         "name": "",
         "orientation": "v",
         "showlegend": false,
         "type": "scatter",
         "x": [
          "2022-01-29T21:29:04.235000",
          "2022-01-29T15:26:04.825000",
          "2022-01-29T08:31:52.078000",
          "2022-01-29T07:47:11.956000",
          "2022-01-29T05:49:12.782000",
          "2022-01-29T02:17:20.298000",
          "2022-01-29T01:02:21.222000",
          "2022-01-29T00:42:09.556000",
          "2022-01-28T23:57:53.618000",
          "2022-01-28T23:53:33.116000",
          "2022-01-28T23:53:26.892000",
          "2022-01-28T23:33:34.002000",
          "2022-01-28T21:07:22.957000",
          "2022-01-28T20:11:30.738000",
          "2022-01-28T19:26:03.220000",
          "2022-01-28T19:21:39.304000",
          "2022-01-28T19:13:23.310000",
          "2022-01-28T19:13:13.429000",
          "2022-01-28T19:08:48.265000",
          "2022-01-28T18:11:09.274000",
          "2022-01-28T17:30:46.803000",
          "2022-01-28T16:24:50.496000",
          "2022-01-28T16:22:45.521000",
          "2022-01-28T16:19:35.329000",
          "2022-01-28T14:25:47.951000",
          "2022-01-28T13:14:21.049000",
          "2022-01-28T13:06:58.251000",
          "2022-01-28T11:18:17.145000",
          "2022-01-28T10:47:58.738000",
          "2022-01-28T09:49:07.566000",
          "2022-01-28T08:29:27.405000",
          "2022-01-28T08:21:29.272000",
          "2022-01-28T03:44:01.727000",
          "2022-01-28T03:41:14.266000",
          "2022-01-28T03:09:48.585000",
          "2022-01-27T23:59:59.711000",
          "2022-01-27T22:12:53.995000",
          "2022-01-27T20:40:51.356000",
          "2022-01-27T16:40:45.365000",
          "2022-01-27T15:15:05.056000",
          "2022-01-27T12:32:56.162000",
          "2022-01-27T11:36:34.999000",
          "2022-01-27T09:08:09.257000",
          "2022-01-27T05:33:56.341000",
          "2022-01-27T02:25:58.169000",
          "2022-01-27T01:51:27.029000",
          "2022-01-27T00:59:49.480000",
          "2022-01-27T00:37:09.676000",
          "2022-01-27T00:19:24.448000",
          "2022-01-26T17:26:28.703000",
          "2022-01-26T13:58:02.750000",
          "2022-01-26T10:35:06.040000",
          "2022-01-26T10:34:47.856000",
          "2022-01-26T10:29:26.921000",
          "2022-01-26T10:28:49.397000",
          "2022-01-26T10:28:47.284000",
          "2022-01-26T10:28:37.563000",
          "2022-01-26T10:28:36.524000",
          "2022-01-26T10:27:58.289000",
          "2022-01-26T10:27:47.400000",
          "2022-01-26T08:45:30.148000",
          "2022-01-26T08:25:04.693000",
          "2022-01-26T03:34:49.201000",
          "2022-01-26T03:06:31.202000",
          "2022-01-26T02:18:51.853000",
          "2022-01-25T23:13:23.100000",
          "2022-01-25T22:26:43.796000",
          "2022-01-25T20:52:05.189000",
          "2022-01-25T19:57:31.122000",
          "2022-01-25T19:06:26.526000",
          "2022-01-25T19:06:25.990000",
          "2022-01-25T16:03:23.915000",
          "2022-01-25T11:07:50.140000",
          "2022-01-25T02:46:25.184000",
          "2022-01-25T02:27:11.140000",
          "2022-01-25T01:32:27.011000",
          "2022-01-24T23:17:33.128000",
          "2022-01-24T19:22:56.243000",
          "2022-01-24T17:48:11.878000",
          "2022-01-24T07:39:30.774000",
          "2022-01-23T10:00:09.213000",
          "2022-01-23T09:59:38.166000",
          "2022-01-23T09:59:00.418000",
          "2022-01-23T09:58:43.644000",
          "2022-01-23T09:57:44.018000",
          "2022-01-23T09:57:24.166000",
          "2022-01-23T05:46:58.779000",
          "2022-01-23T04:28:53.920000",
          "2022-01-22T23:38:27.595000",
          "2022-01-22T17:40:08.961000",
          "2022-01-22T11:22:49.865000",
          "2022-01-22T03:06:57.924000",
          "2022-01-22T01:13:24.985000",
          "2022-01-21T23:15:21.340000",
          "2022-01-21T21:51:22.110000",
          "2022-01-21T21:40:29.194000",
          "2022-01-21T20:31:35.284000",
          "2022-01-21T18:25:42.992000",
          "2022-01-21T17:20:15.302000",
          "2022-01-21T17:20:02.980000",
          "2022-01-21T13:46:52.729000",
          "2022-01-21T13:18:15.140000",
          "2022-01-21T08:55:01.805000",
          "2022-01-21T08:34:31.243000",
          "2022-01-21T08:34:29.727000",
          "2022-01-21T05:44:21.096000",
          "2022-01-21T02:20:38.395000",
          "2022-01-21T02:07:31.248000",
          "2022-01-20T22:21:19.786000",
          "2022-01-20T20:14:52.601000",
          "2022-01-20T19:27:14.176000",
          "2022-01-20T12:17:33.764000",
          "2022-01-20T11:24:17.937000",
          "2022-01-20T07:27:11.689000",
          "2022-01-20T05:09:39.128000",
          "2022-01-20T01:27:56.276000",
          "2022-01-20T00:53:00.603000",
          "2022-01-20T00:06:42.677000",
          "2022-01-19T19:44:15.428000",
          "2022-01-19T19:08:38.244000",
          "2022-01-19T09:45:40.742000",
          "2022-01-19T04:45:53.450000",
          "2022-01-19T04:34:02.373000",
          "2022-01-19T02:04:58.843000",
          "2022-01-19T01:52:16.591000",
          "2022-01-19T00:46:11.391000",
          "2022-01-19T00:29:16.677000",
          "2022-01-18T23:43:50.673000",
          "2022-01-18T23:28:04.112000",
          "2022-01-18T13:55:58.050000",
          "2022-01-18T08:33:47.034000",
          "2022-01-18T05:22:38.732000",
          "2022-01-18T03:58:10.221000",
          "2022-01-18T02:10:22.963000",
          "2022-01-18T02:10:22.450000",
          "2022-01-18T02:10:21.926000",
          "2022-01-18T00:02:54.568000",
          "2022-01-17T23:07:05.754000",
          "2022-01-17T22:50:01.617000",
          "2022-01-17T20:54:20.074000",
          "2022-01-17T20:38:06.349000",
          "2022-01-17T20:12:17.764000",
          "2022-01-17T16:09:23.587000",
          "2022-01-17T16:07:05.778000",
          "2022-01-17T05:12:40.071000",
          "2022-01-17T02:06:22.979000",
          "2022-01-16T23:07:40.253000",
          "2022-01-16T12:18:37.921000",
          "2022-01-16T11:54:00.130000",
          "2022-01-16T10:38:02.868000",
          "2022-01-16T09:05:43.446000",
          "2022-01-16T04:34:05.283000",
          "2022-01-16T01:48:23.727000",
          "2022-01-15T21:28:13.200000",
          "2022-01-15T21:24:29.133000",
          "2022-01-15T21:18:48.055000",
          "2022-01-15T20:41:24.817000",
          "2022-01-15T19:13:09.003000",
          "2022-01-15T18:44:41.141000",
          "2022-01-15T16:43:15.948000",
          "2022-01-15T15:43:55.199000",
          "2022-01-15T15:38:32.350000",
          "2022-01-15T14:11:04.014000",
          "2022-01-15T13:24:25.020000",
          "2022-01-15T12:35:27.643000",
          "2022-01-15T12:24:19.754000",
          "2022-01-15T10:31:07.253000",
          "2022-01-15T10:19:10.369000",
          "2022-01-15T09:08:25.050000",
          "2022-01-15T09:06:35.792000",
          "2022-01-15T09:04:36.007000",
          "2022-01-15T08:58:28.756000",
          "2022-01-15T06:21:51.078000",
          "2022-01-15T06:14:48.566000",
          "2022-01-15T05:39:45.213000",
          "2022-01-15T05:27:27.402000",
          "2022-01-15T03:52:44.380000",
          "2022-01-15T03:01:43.824000",
          "2022-01-15T02:54:27.505000",
          "2022-01-15T02:37:02.589000",
          "2022-01-15T01:39:15.004000",
          "2022-01-15T01:31:56.631000",
          "2022-01-15T00:47:05.725000",
          "2022-01-15T00:20:49.678000",
          "2022-01-14T23:06:14.551000",
          "2022-01-14T22:56:59.330000",
          "2022-01-14T22:42:22.046000",
          "2022-01-14T19:55:11.461000",
          "2022-01-14T13:47:41.188000",
          "2022-01-14T10:05:46.405000",
          "2022-01-14T07:53:55.743000",
          "2022-01-14T07:02:33.516000",
          "2022-01-14T06:34:36.430000",
          "2022-01-14T03:11:54.636000",
          "2022-01-14T02:57:21.172000",
          "2022-01-13T22:56:36.560000",
          "2022-01-13T22:06:43.734000",
          "2022-01-13T20:55:23.449000",
          "2022-01-13T17:43:06.248000",
          "2022-01-13T08:22:17.860000",
          "2022-01-13T07:20:54.445000",
          "2022-01-13T06:43:32.366000",
          "2022-01-13T02:48:14.958000",
          "2022-01-12T23:49:39.088000",
          "2022-01-12T22:35:09.400000",
          "2022-01-12T22:32:07.972000",
          "2022-01-12T22:30:15.101000",
          "2022-01-12T22:10:54.083000",
          "2022-01-12T21:45:23.551000",
          "2022-01-12T21:40:11.596000",
          "2022-01-12T21:39:31.580000",
          "2022-01-12T19:46:22.518000",
          "2022-01-12T19:29:11.076000",
          "2022-01-12T18:15:28.227000",
          "2022-01-12T17:24:36.727000",
          "2022-01-12T17:13:41.242000",
          "2022-01-12T17:13:40.987000",
          "2022-01-12T16:40:08.236000",
          "2022-01-12T16:38:56.678000",
          "2022-01-12T16:34:37.843000",
          "2022-01-12T16:33:20.960000",
          "2022-01-12T15:51:49.172000",
          "2022-01-12T15:35:29.935000",
          "2022-01-12T15:30:44.285000",
          "2022-01-12T10:46:46.821000",
          "2022-01-12T10:22:45.291000",
          "2022-01-12T08:16:16.415000",
          "2022-01-12T06:28:56.876000",
          "2022-01-12T04:11:40.975000",
          "2022-01-12T03:29:19.216000",
          "2022-01-12T01:14:08.986000",
          "2022-01-11T19:00:32",
          "2022-01-11T18:42:46.133000",
          "2022-01-11T18:40:02.352000",
          "2022-01-11T18:38:05.952000",
          "2022-01-11T18:31:32.308000",
          "2022-01-11T09:26:18.419000",
          "2022-01-11T08:37:44.907000",
          "2022-01-11T08:08:27.367000",
          "2022-01-11T07:40:14.543000",
          "2022-01-11T07:22:00.943000",
          "2022-01-11T06:58:56.477000",
          "2022-01-11T05:09:06.015000",
          "2022-01-11T02:57:38.187000",
          "2022-01-11T01:21:54.895000",
          "2022-01-10T23:25:09.136000",
          "2022-01-10T21:52:20.279000",
          "2022-01-10T18:56:02.547000",
          "2022-01-10T18:22:56.800000",
          "2022-01-10T17:29:32.796000",
          "2022-01-10T09:16:22.729000",
          "2022-01-10T03:48:48.069000",
          "2022-01-10T03:10:10.701000",
          "2022-01-10T00:52:58.928000",
          "2022-01-09T21:49:37.776000",
          "2022-01-09T14:52:35.311000",
          "2022-01-09T04:30:51.274000",
          "2022-01-09T03:27:06.954000",
          "2022-01-09T01:42:27.250000",
          "2022-01-09T01:26:02.024000",
          "2022-01-09T01:09:33.078000",
          "2022-01-09T00:30:51.942000",
          "2022-01-08T22:42:44.040000",
          "2022-01-08T22:21:54.754000",
          "2022-01-08T20:32:36.730000",
          "2022-01-08T15:00:07.504000",
          "2022-01-08T08:36:57.010000",
          "2022-01-08T07:50:23.759000",
          "2022-01-08T06:03:10.520000",
          "2022-01-08T02:51:20.543000",
          "2022-01-08T02:05:41.599000",
          "2022-01-08T02:02:18.529000",
          "2022-01-07T23:54:08.192000",
          "2022-01-07T23:53:50.840000",
          "2022-01-07T22:03:41.559000",
          "2022-01-07T21:35:23.770000",
          "2022-01-07T21:17:38.123000",
          "2022-01-07T20:25:15.419000",
          "2022-01-07T18:37:50.896000",
          "2022-01-07T16:34:00.777000",
          "2022-01-07T15:15:14.873000",
          "2022-01-07T14:13:55.189000",
          "2022-01-07T10:57:43.937000",
          "2022-01-07T10:56:22.057000",
          "2022-01-07T10:00:21.642000",
          "2022-01-07T07:00:06.079000",
          "2022-01-07T07:00:05.985000",
          "2022-01-07T05:03:59.387000",
          "2022-01-06T22:39:22.805000",
          "2022-01-06T20:49:00.773000",
          "2022-01-06T19:38:01.835000",
          "2022-01-06T18:34:26.410000",
          "2022-01-06T18:18:32.365000",
          "2022-01-06T17:06:20.522000",
          "2022-01-06T15:59:31.168000",
          "2022-01-06T14:07:46.497000",
          "2022-01-06T09:11:21.591000",
          "2022-01-06T08:28:34.377000",
          "2022-01-06T07:55:34.189000",
          "2022-01-06T02:08:37.375000",
          "2022-01-06T02:04:47.172000",
          "2022-01-06T01:44:13.604000",
          "2022-01-05T22:28:17.778000",
          "2022-01-05T22:07:56.622000",
          "2022-01-05T21:56:44.928000",
          "2022-01-05T21:37:37.768000",
          "2022-01-05T20:18:47.460000",
          "2022-01-05T20:17:30.073000",
          "2022-01-05T20:15:39.563000",
          "2022-01-05T20:12:05.173000",
          "2022-01-05T19:53:01.686000",
          "2022-01-05T19:39:55.410000",
          "2022-01-05T19:26:08.561000",
          "2022-01-05T18:49:49.198000",
          "2022-01-05T18:18:30.156000",
          "2022-01-05T18:16:05.711000",
          "2022-01-05T18:15:30.137000",
          "2022-01-05T18:04:42.550000",
          "2022-01-05T17:34:24.140000",
          "2022-01-05T17:26:12.184000",
          "2022-01-05T17:15:08.749000",
          "2022-01-05T16:59:52.356000",
          "2022-01-05T16:45:42.427000",
          "2022-01-05T15:45:17.337000",
          "2022-01-05T15:36:39.942000",
          "2022-01-05T15:28:30.391000",
          "2022-01-05T14:54:56.268000",
          "2022-01-05T14:54:56.070000",
          "2022-01-05T14:51:33.478000",
          "2022-01-05T14:49:45.448000",
          "2022-01-05T14:41:35.852000",
          "2022-01-05T14:40:10.712000",
          "2022-01-05T14:38:47.169000",
          "2022-01-05T14:34:30.670000",
          "2022-01-05T14:30:59.402000",
          "2022-01-05T14:27:53.504000",
          "2022-01-05T14:25:18.313000",
          "2022-01-05T14:23:32.664000",
          "2022-01-05T14:17:45.350000",
          "2022-01-05T14:17:02.169000",
          "2022-01-05T14:16:16.936000",
          "2022-01-05T14:06:21.440000",
          "2022-01-05T14:02:08.654000",
          "2022-01-05T13:59:07.748000",
          "2022-01-05T13:55:58.047000",
          "2022-01-05T13:52:30.757000",
          "2022-01-05T13:49:27.815000",
          "2022-01-05T13:48:56.303000",
          "2022-01-05T13:45:54.139000",
          "2022-01-05T13:45:25.187000",
          "2022-01-05T13:45:24.968000",
          "2022-01-05T13:43:20.265000",
          "2022-01-05T13:41:40.471000",
          "2022-01-05T13:41:18.618000",
          "2022-01-05T13:39:11.797000",
          "2022-01-05T13:39:11.311000",
          "2022-01-05T13:39:10.759000",
          "2022-01-05T13:39:10.309000",
          "2022-01-05T13:39:09.832000",
          "2022-01-05T13:39:09.314000",
          "2022-01-05T13:39:08.798000",
          "2022-01-05T13:39:08.316000",
          "2022-01-05T13:39:07.845000",
          "2022-01-05T13:39:07.347000",
          "2022-01-05T13:39:06.814000",
          "2022-01-05T13:39:06.251000",
          "2022-01-05T13:39:05.724000",
          "2022-01-05T13:39:05.136000",
          "2022-01-05T13:39:04.598000",
          "2022-01-05T13:39:04.056000",
          "2022-01-05T13:31:25.015000",
          "2022-01-05T13:31:24.468000",
          "2022-01-05T13:31:23.894000",
          "2022-01-05T13:23:19.458000",
          "2022-01-05T13:14:25.582000",
          "2022-01-05T13:11:35.335000",
          "2022-01-05T13:04:36.903000",
          "2022-01-05T12:54:10.273000",
          "2022-01-05T12:20:44.838000",
          "2022-01-05T10:38:46.308000",
          "2022-01-05T10:25:16.418000",
          "2022-01-05T10:03:01.866000",
          "2022-01-05T08:40:30.921000",
          "2022-01-05T08:39:19.213000",
          "2022-01-05T08:34:16.324000",
          "2022-01-05T08:21:16.685000",
          "2022-01-05T07:54:52.479000",
          "2022-01-05T07:46:51.119000",
          "2022-01-05T07:43:01.807000",
          "2022-01-05T07:37:21.382000",
          "2022-01-05T07:25:46.613000",
          "2022-01-05T05:36:52.827000",
          "2022-01-05T05:34:50.601000",
          "2022-01-05T04:36:02.229000",
          "2022-01-05T03:48:23.399000",
          "2022-01-05T03:05:56.188000",
          "2022-01-05T02:10:23.987000",
          "2022-01-05T01:45:41.098000",
          "2022-01-05T01:43:24.831000",
          "2022-01-05T00:54:39.676000",
          "2022-01-05T00:26:15.571000",
          "2022-01-05T00:16:48.149000",
          "2022-01-04T23:34:29.895000",
          "2022-01-04T22:51:47.923000",
          "2022-01-04T22:47:52.655000",
          "2022-01-04T22:42:55.821000",
          "2022-01-04T22:41:40.545000",
          "2022-01-04T22:37:26.630000",
          "2022-01-04T22:36:00.439000",
          "2022-01-04T22:36:00.052000",
          "2022-01-04T22:35:47.909000",
          "2022-01-04T22:29:35.480000",
          "2022-01-04T22:29:32.283000",
          "2022-01-04T22:27:14.551000",
          "2022-01-04T22:27:12.497000",
          "2022-01-04T22:25:03.514000",
          "2022-01-04T22:19:52.982000",
          "2022-01-04T22:17:28.090000",
          "2022-01-04T22:16:54.166000",
          "2022-01-04T22:15:36.454000",
          "2022-01-04T22:10:57.625000",
          "2022-01-04T22:02:14.926000",
          "2022-01-04T21:58:43.613000",
          "2022-01-04T21:54:22.998000",
          "2022-01-04T21:51:45.199000",
          "2022-01-04T21:51:44.674000",
          "2022-01-04T21:51:44.117000",
          "2022-01-04T21:43:53.337000",
          "2022-01-04T21:40:49.921000",
          "2022-01-04T21:37:57.995000",
          "2022-01-04T21:36:28.295000",
          "2022-01-04T21:31:15.435000",
          "2022-01-04T21:26:40.202000",
          "2022-01-04T21:24:12.850000",
          "2022-01-04T21:22:53.074000",
          "2022-01-04T21:15:06.622000",
          "2022-01-04T21:10:19.335000",
          "2022-01-04T21:09:47.950000",
          "2022-01-04T21:08:19.240000",
          "2022-01-04T20:57:24.206000",
          "2022-01-04T20:56:04.925000",
          "2022-01-04T20:44:00.934000",
          "2022-01-04T20:31:56.428000",
          "2022-01-04T20:28:16.913000",
          "2022-01-04T20:27:22.344000",
          "2022-01-04T20:20:18.969000",
          "2022-01-04T20:19:32.736000",
          "2022-01-04T20:19:05.818000",
          "2022-01-04T20:12:57.625000",
          "2022-01-04T20:09:31.616000",
          "2022-01-04T20:09:31.497000",
          "2022-01-04T20:08:32.279000",
          "2022-01-04T19:55:53.865000",
          "2022-01-04T19:42:48.917000",
          "2022-01-04T19:25:34.986000",
          "2022-01-04T19:20:23.082000",
          "2022-01-04T19:17:53.900000",
          "2022-01-04T19:09:58.208000",
          "2022-01-04T19:09:57.887000",
          "2022-01-04T18:35:22.817000",
          "2022-01-04T18:34:45.564000",
          "2022-01-04T18:33:13.075000",
          "2022-01-04T18:30:24.846000",
          "2022-01-04T18:29:55.259000",
          "2022-01-04T18:17:33.999000",
          "2022-01-04T17:31:54.178000",
          "2022-01-04T17:11:26.963000",
          "2022-01-04T11:16:49.633000",
          "2022-01-04T07:50:26.251000",
          "2022-01-03T23:50:17.603000",
          "2022-01-03T23:06:59.524000",
          "2022-01-03T22:02:46.555000",
          "2022-01-03T20:43:07.988000",
          "2022-01-03T20:40:17.911000",
          "2022-01-03T16:15:20.706000",
          "2022-01-03T15:32:44.131000",
          "2022-01-03T15:31:50.064000",
          "2022-01-03T15:11:28.123000",
          "2022-01-03T14:35:49.369000",
          "2022-01-03T11:00:04.482000",
          "2022-01-03T07:51:20.511000",
          "2022-01-03T06:22:23.067000",
          "2022-01-03T04:27:38.972000",
          "2022-01-03T03:53:57.188000",
          "2022-01-03T01:55:08.707000",
          "2022-01-03T00:57:30.468000",
          "2022-01-02T23:11:52.200000",
          "2022-01-02T21:07:52.276000",
          "2022-01-02T19:45:23.934000",
          "2022-01-02T18:26:04.466000",
          "2022-01-02T18:09:48.075000",
          "2022-01-02T17:43:40.319000",
          "2022-01-02T13:52:19.819000",
          "2022-01-02T11:24:55.440000",
          "2022-01-02T08:19:19.556000",
          "2022-01-02T05:28:13.267000",
          "2022-01-02T04:06:14.710000",
          "2022-01-02T02:52:55.288000",
          "2022-01-01T21:52:46.426000",
          "2022-01-01T15:24:54.244000",
          "2022-01-01T12:07:50.339000",
          "2022-01-01T11:56:33.784000",
          "2022-01-01T11:15:59.974000",
          "2022-01-01T07:30:14.840000",
          "2022-01-01T05:29:30.308000",
          "2022-01-01T05:27:26.926000",
          "2022-01-01T03:59:05.513000",
          "2022-01-01T02:55:09.867000",
          "2022-01-01T02:48:47.674000",
          "2022-01-01T02:27:27.814000",
          "2021-12-31T22:27:57.664000",
          "2021-12-31T17:58:39.163000",
          "2021-12-31T17:57:52.047000",
          "2021-12-31T17:44:20.773000",
          "2021-12-31T03:25:26.655000"
         ],
         "xaxis": "x",
         "y": [
          0.29,
          0.29,
          0.399,
          0.3,
          0.4269,
          0.4,
          0.295,
          0.29,
          0.3,
          0.29,
          0.399,
          0.3,
          0.295,
          0.55,
          0.4,
          0.299,
          0.35,
          0.399,
          0.3,
          0.33,
          0.295,
          0.359,
          0.4,
          0.4,
          0.297,
          0.55,
          0.35,
          0.3,
          0.33,
          0.31,
          0.45,
          0.55,
          0.299,
          0.29,
          0.5,
          0.25,
          0.28,
          0.41,
          0.26,
          0.35,
          0.289,
          0.28,
          0.28,
          0.33,
          0.25,
          0.298,
          0.35,
          1.2,
          0.25,
          0.3,
          0.299,
          0.33,
          0.3,
          0.3,
          0.3,
          0.3,
          0.29,
          0.289,
          0.28,
          0.279,
          0.25,
          0.2888,
          0.25,
          0.26,
          0.31,
          0.35,
          0.25,
          0.24,
          1.1,
          0.25,
          0.25,
          0.31,
          0.28,
          0.32,
          0.3,
          0.29,
          0.31,
          0.3,
          0.297,
          0.3289,
          0.3,
          0.3,
          0.32,
          0.3,
          0.3,
          0.299999,
          0.55,
          0.38,
          0.8,
          0.35,
          0.299,
          0.3749,
          0.5,
          0.31,
          0.33,
          0.3,
          0.4999,
          0.275,
          0.3,
          0.335,
          0.29,
          0.3439,
          0.3,
          0.36,
          0.35,
          0.33,
          0.44,
          0.57,
          0.33,
          0.3,
          0.29,
          0.35,
          0.28,
          0.29,
          0.29,
          0.52,
          0.26,
          0.349,
          0.3369,
          0.27,
          0.4999,
          0.39,
          0.55,
          0.299,
          0.41,
          0.3,
          0.35,
          0.32,
          0.33,
          0.369,
          0.299,
          0.3999,
          0.85,
          0.3,
          0.289,
          0.275,
          0.3,
          0.299,
          0.825,
          0.274,
          0.33,
          0.39,
          0.6,
          0.5,
          0.298,
          0.3,
          0.555,
          0.305,
          0.4,
          0.6,
          0.305,
          0.32,
          0.35,
          0.3999,
          0.35,
          0.45,
          0.38,
          0.45,
          0.33,
          1,
          0.38,
          0.5,
          0.75,
          0.36,
          0.97,
          0.344,
          0.369,
          0.399,
          0.333,
          0.31,
          0.3,
          0.3,
          1.99,
          0.512,
          0.287,
          0.6,
          0.3,
          0.3,
          0.296,
          0.299,
          0.3,
          0.33,
          0.3,
          0.349,
          0.5,
          0.5,
          0.2999,
          0.375,
          0.499,
          0.29,
          0.6,
          0.825,
          0.35,
          0.4,
          0.001,
          0.289,
          0.42,
          0.59,
          0.29,
          0.29,
          0.3,
          0.3,
          0.48,
          0.548,
          0.445,
          0.325,
          0.35,
          0.4,
          0.42,
          0.299,
          1.1,
          0.65,
          0.4,
          0.16,
          0.25,
          0.389,
          0.29,
          0.3,
          0.31,
          0.4,
          0.299,
          0.3,
          0.3,
          0.295,
          0.3,
          0.3,
          0.33,
          0.29,
          0.33,
          0.29,
          0.36,
          0.55,
          0.29,
          0.298,
          0.289,
          0.288,
          0.26,
          0.32,
          0.33,
          0.27,
          0.45,
          0.4,
          0.299,
          0.297,
          0.3003,
          0.4,
          0.345,
          0.55,
          0.42,
          0.39,
          0.3,
          1,
          0.359,
          0.31,
          0.32,
          0.349,
          0.369,
          0.4,
          0.36,
          0.3,
          0.333,
          0.3,
          0.27,
          2,
          0.4,
          0.3,
          0.69,
          0.36,
          0.37,
          0.59,
          0.73,
          0.36,
          0.525,
          0.57,
          0.42,
          0.388,
          0.8,
          0.6,
          0.4999,
          0.38,
          0.5,
          0.38,
          0.4,
          0.39,
          0.45,
          0.5,
          0.789,
          0.37,
          0.55,
          0.55,
          0.99,
          0.449,
          0.44,
          0.3999,
          0.3999,
          0.5,
          0.6,
          0.6,
          0.45,
          0.435,
          0.435,
          0.6,
          0.45,
          0.5,
          0.47,
          0.45,
          0.5,
          0.6969,
          0.69,
          0.8,
          0.55,
          0.69,
          0.5,
          0.4,
          0.5,
          0.5,
          0.47,
          0.6,
          0.6,
          0.465,
          0.44,
          0.6,
          0.5,
          0.46,
          0.88,
          0.475,
          0.4,
          0.4069,
          0.49,
          0.45,
          0.6,
          0.5,
          0.5,
          1,
          0.42,
          0.475,
          0.342,
          0.45,
          0.4999999,
          0.5,
          0.4799,
          0.4,
          0.41,
          0.4,
          0.38,
          0.38,
          0.4,
          0.38,
          0.45,
          0.4,
          0.4969,
          0.37,
          0.34,
          0.49,
          0.5,
          3,
          0.49,
          0.49,
          0.49,
          0.49,
          0.49,
          0.489,
          0.438,
          0.43,
          0.425,
          0.42,
          0.4,
          0.4,
          0.4,
          0.399,
          0.49,
          0.388,
          0.39,
          0.33,
          0.33,
          0.45,
          0.39,
          0.38,
          0.45,
          0.39,
          0.42,
          0.4,
          0.37,
          0.4,
          0.36,
          0.32,
          0.39,
          0.33,
          0.36,
          0.4,
          0.76,
          0.36,
          0.36,
          0.42,
          0.5,
          0.58,
          0.4,
          0.34,
          0.35,
          0.345,
          0.33,
          0.33,
          0.333,
          0.35,
          0.3169,
          0.33,
          0.4,
          0.5,
          0.3,
          0.29,
          0.33,
          0.35,
          0.6,
          0.29,
          0.35,
          0.42,
          0.342,
          0.4,
          0.35,
          0.31,
          0.35,
          0.35,
          0.305,
          0.469,
          0.3,
          0.3,
          0.3,
          0.3,
          0.3,
          0.3,
          0.35,
          0.3,
          0.3,
          0.5999,
          0.3,
          0.3,
          0.3,
          0.35,
          0.3,
          0.69,
          0.35,
          0.3,
          0.28,
          0.275,
          0.299,
          0.5,
          0.2899,
          0.299,
          0.286,
          0.285,
          0.3,
          0.55,
          0.3,
          0.4,
          0.285,
          0.28,
          0.29,
          0.275,
          0.282,
          0.275,
          0.28,
          0.284,
          0.3,
          1.2,
          0.32,
          0.285,
          0.299,
          0.284,
          0.1385,
          1.1,
          0.3,
          0.4,
          0.4,
          0.5,
          0.295,
          0.35,
          0.569,
          0.37,
          0.35,
          0.29,
          0.3,
          0.45,
          0.285,
          0.275,
          0.28,
          0.289,
          0.275,
          0.29,
          0.279,
          0.36,
          0.285,
          0.35,
          0.4,
          0.33,
          0.4,
          0.35,
          0.33,
          0.23,
          0.28,
          0.31,
          0.5,
          0.45,
          0.3999,
          0.26,
          0.3,
          0.28,
          0.28999,
          0.625,
          0.4,
          0.49,
          0.49,
          0.3,
          0.299,
          0.23,
          0.2699
         ],
         "yaxis": "y"
        }
       ],
       "layout": {
        "legend": {
         "tracegroupgap": 0
        },
        "margin": {
         "t": 60
        },
        "template": {
         "data": {
          "bar": [
           {
            "error_x": {
             "color": "#2a3f5f"
            },
            "error_y": {
             "color": "#2a3f5f"
            },
            "marker": {
             "line": {
              "color": "#E5ECF6",
              "width": 0.5
             },
             "pattern": {
              "fillmode": "overlay",
              "size": 10,
              "solidity": 0.2
             }
            },
            "type": "bar"
           }
          ],
          "barpolar": [
           {
            "marker": {
             "line": {
              "color": "#E5ECF6",
              "width": 0.5
             },
             "pattern": {
              "fillmode": "overlay",
              "size": 10,
              "solidity": 0.2
             }
            },
            "type": "barpolar"
           }
          ],
          "carpet": [
           {
            "aaxis": {
             "endlinecolor": "#2a3f5f",
             "gridcolor": "white",
             "linecolor": "white",
             "minorgridcolor": "white",
             "startlinecolor": "#2a3f5f"
            },
            "baxis": {
             "endlinecolor": "#2a3f5f",
             "gridcolor": "white",
             "linecolor": "white",
             "minorgridcolor": "white",
             "startlinecolor": "#2a3f5f"
            },
            "type": "carpet"
           }
          ],
          "choropleth": [
           {
            "colorbar": {
             "outlinewidth": 0,
             "ticks": ""
            },
            "type": "choropleth"
           }
          ],
          "contour": [
           {
            "colorbar": {
             "outlinewidth": 0,
             "ticks": ""
            },
            "colorscale": [
             [
              0,
              "#0d0887"
             ],
             [
              0.1111111111111111,
              "#46039f"
             ],
             [
              0.2222222222222222,
              "#7201a8"
             ],
             [
              0.3333333333333333,
              "#9c179e"
             ],
             [
              0.4444444444444444,
              "#bd3786"
             ],
             [
              0.5555555555555556,
              "#d8576b"
             ],
             [
              0.6666666666666666,
              "#ed7953"
             ],
             [
              0.7777777777777778,
              "#fb9f3a"
             ],
             [
              0.8888888888888888,
              "#fdca26"
             ],
             [
              1,
              "#f0f921"
             ]
            ],
            "type": "contour"
           }
          ],
          "contourcarpet": [
           {
            "colorbar": {
             "outlinewidth": 0,
             "ticks": ""
            },
            "type": "contourcarpet"
           }
          ],
          "heatmap": [
           {
            "colorbar": {
             "outlinewidth": 0,
             "ticks": ""
            },
            "colorscale": [
             [
              0,
              "#0d0887"
             ],
             [
              0.1111111111111111,
              "#46039f"
             ],
             [
              0.2222222222222222,
              "#7201a8"
             ],
             [
              0.3333333333333333,
              "#9c179e"
             ],
             [
              0.4444444444444444,
              "#bd3786"
             ],
             [
              0.5555555555555556,
              "#d8576b"
             ],
             [
              0.6666666666666666,
              "#ed7953"
             ],
             [
              0.7777777777777778,
              "#fb9f3a"
             ],
             [
              0.8888888888888888,
              "#fdca26"
             ],
             [
              1,
              "#f0f921"
             ]
            ],
            "type": "heatmap"
           }
          ],
          "heatmapgl": [
           {
            "colorbar": {
             "outlinewidth": 0,
             "ticks": ""
            },
            "colorscale": [
             [
              0,
              "#0d0887"
             ],
             [
              0.1111111111111111,
              "#46039f"
             ],
             [
              0.2222222222222222,
              "#7201a8"
             ],
             [
              0.3333333333333333,
              "#9c179e"
             ],
             [
              0.4444444444444444,
              "#bd3786"
             ],
             [
              0.5555555555555556,
              "#d8576b"
             ],
             [
              0.6666666666666666,
              "#ed7953"
             ],
             [
              0.7777777777777778,
              "#fb9f3a"
             ],
             [
              0.8888888888888888,
              "#fdca26"
             ],
             [
              1,
              "#f0f921"
             ]
            ],
            "type": "heatmapgl"
           }
          ],
          "histogram": [
           {
            "marker": {
             "pattern": {
              "fillmode": "overlay",
              "size": 10,
              "solidity": 0.2
             }
            },
            "type": "histogram"
           }
          ],
          "histogram2d": [
           {
            "colorbar": {
             "outlinewidth": 0,
             "ticks": ""
            },
            "colorscale": [
             [
              0,
              "#0d0887"
             ],
             [
              0.1111111111111111,
              "#46039f"
             ],
             [
              0.2222222222222222,
              "#7201a8"
             ],
             [
              0.3333333333333333,
              "#9c179e"
             ],
             [
              0.4444444444444444,
              "#bd3786"
             ],
             [
              0.5555555555555556,
              "#d8576b"
             ],
             [
              0.6666666666666666,
              "#ed7953"
             ],
             [
              0.7777777777777778,
              "#fb9f3a"
             ],
             [
              0.8888888888888888,
              "#fdca26"
             ],
             [
              1,
              "#f0f921"
             ]
            ],
            "type": "histogram2d"
           }
          ],
          "histogram2dcontour": [
           {
            "colorbar": {
             "outlinewidth": 0,
             "ticks": ""
            },
            "colorscale": [
             [
              0,
              "#0d0887"
             ],
             [
              0.1111111111111111,
              "#46039f"
             ],
             [
              0.2222222222222222,
              "#7201a8"
             ],
             [
              0.3333333333333333,
              "#9c179e"
             ],
             [
              0.4444444444444444,
              "#bd3786"
             ],
             [
              0.5555555555555556,
              "#d8576b"
             ],
             [
              0.6666666666666666,
              "#ed7953"
             ],
             [
              0.7777777777777778,
              "#fb9f3a"
             ],
             [
              0.8888888888888888,
              "#fdca26"
             ],
             [
              1,
              "#f0f921"
             ]
            ],
            "type": "histogram2dcontour"
           }
          ],
          "mesh3d": [
           {
            "colorbar": {
             "outlinewidth": 0,
             "ticks": ""
            },
            "type": "mesh3d"
           }
          ],
          "parcoords": [
           {
            "line": {
             "colorbar": {
              "outlinewidth": 0,
              "ticks": ""
             }
            },
            "type": "parcoords"
           }
          ],
          "pie": [
           {
            "automargin": true,
            "type": "pie"
           }
          ],
          "scatter": [
           {
            "marker": {
             "colorbar": {
              "outlinewidth": 0,
              "ticks": ""
             }
            },
            "type": "scatter"
           }
          ],
          "scatter3d": [
           {
            "line": {
             "colorbar": {
              "outlinewidth": 0,
              "ticks": ""
             }
            },
            "marker": {
             "colorbar": {
              "outlinewidth": 0,
              "ticks": ""
             }
            },
            "type": "scatter3d"
           }
          ],
          "scattercarpet": [
           {
            "marker": {
             "colorbar": {
              "outlinewidth": 0,
              "ticks": ""
             }
            },
            "type": "scattercarpet"
           }
          ],
          "scattergeo": [
           {
            "marker": {
             "colorbar": {
              "outlinewidth": 0,
              "ticks": ""
             }
            },
            "type": "scattergeo"
           }
          ],
          "scattergl": [
           {
            "marker": {
             "colorbar": {
              "outlinewidth": 0,
              "ticks": ""
             }
            },
            "type": "scattergl"
           }
          ],
          "scattermapbox": [
           {
            "marker": {
             "colorbar": {
              "outlinewidth": 0,
              "ticks": ""
             }
            },
            "type": "scattermapbox"
           }
          ],
          "scatterpolar": [
           {
            "marker": {
             "colorbar": {
              "outlinewidth": 0,
              "ticks": ""
             }
            },
            "type": "scatterpolar"
           }
          ],
          "scatterpolargl": [
           {
            "marker": {
             "colorbar": {
              "outlinewidth": 0,
              "ticks": ""
             }
            },
            "type": "scatterpolargl"
           }
          ],
          "scatterternary": [
           {
            "marker": {
             "colorbar": {
              "outlinewidth": 0,
              "ticks": ""
             }
            },
            "type": "scatterternary"
           }
          ],
          "surface": [
           {
            "colorbar": {
             "outlinewidth": 0,
             "ticks": ""
            },
            "colorscale": [
             [
              0,
              "#0d0887"
             ],
             [
              0.1111111111111111,
              "#46039f"
             ],
             [
              0.2222222222222222,
              "#7201a8"
             ],
             [
              0.3333333333333333,
              "#9c179e"
             ],
             [
              0.4444444444444444,
              "#bd3786"
             ],
             [
              0.5555555555555556,
              "#d8576b"
             ],
             [
              0.6666666666666666,
              "#ed7953"
             ],
             [
              0.7777777777777778,
              "#fb9f3a"
             ],
             [
              0.8888888888888888,
              "#fdca26"
             ],
             [
              1,
              "#f0f921"
             ]
            ],
            "type": "surface"
           }
          ],
          "table": [
           {
            "cells": {
             "fill": {
              "color": "#EBF0F8"
             },
             "line": {
              "color": "white"
             }
            },
            "header": {
             "fill": {
              "color": "#C8D4E3"
             },
             "line": {
              "color": "white"
             }
            },
            "type": "table"
           }
          ]
         },
         "layout": {
          "annotationdefaults": {
           "arrowcolor": "#2a3f5f",
           "arrowhead": 0,
           "arrowwidth": 1
          },
          "autotypenumbers": "strict",
          "coloraxis": {
           "colorbar": {
            "outlinewidth": 0,
            "ticks": ""
           }
          },
          "colorscale": {
           "diverging": [
            [
             0,
             "#8e0152"
            ],
            [
             0.1,
             "#c51b7d"
            ],
            [
             0.2,
             "#de77ae"
            ],
            [
             0.3,
             "#f1b6da"
            ],
            [
             0.4,
             "#fde0ef"
            ],
            [
             0.5,
             "#f7f7f7"
            ],
            [
             0.6,
             "#e6f5d0"
            ],
            [
             0.7,
             "#b8e186"
            ],
            [
             0.8,
             "#7fbc41"
            ],
            [
             0.9,
             "#4d9221"
            ],
            [
             1,
             "#276419"
            ]
           ],
           "sequential": [
            [
             0,
             "#0d0887"
            ],
            [
             0.1111111111111111,
             "#46039f"
            ],
            [
             0.2222222222222222,
             "#7201a8"
            ],
            [
             0.3333333333333333,
             "#9c179e"
            ],
            [
             0.4444444444444444,
             "#bd3786"
            ],
            [
             0.5555555555555556,
             "#d8576b"
            ],
            [
             0.6666666666666666,
             "#ed7953"
            ],
            [
             0.7777777777777778,
             "#fb9f3a"
            ],
            [
             0.8888888888888888,
             "#fdca26"
            ],
            [
             1,
             "#f0f921"
            ]
           ],
           "sequentialminus": [
            [
             0,
             "#0d0887"
            ],
            [
             0.1111111111111111,
             "#46039f"
            ],
            [
             0.2222222222222222,
             "#7201a8"
            ],
            [
             0.3333333333333333,
             "#9c179e"
            ],
            [
             0.4444444444444444,
             "#bd3786"
            ],
            [
             0.5555555555555556,
             "#d8576b"
            ],
            [
             0.6666666666666666,
             "#ed7953"
            ],
            [
             0.7777777777777778,
             "#fb9f3a"
            ],
            [
             0.8888888888888888,
             "#fdca26"
            ],
            [
             1,
             "#f0f921"
            ]
           ]
          },
          "colorway": [
           "#636efa",
           "#EF553B",
           "#00cc96",
           "#ab63fa",
           "#FFA15A",
           "#19d3f3",
           "#FF6692",
           "#B6E880",
           "#FF97FF",
           "#FECB52"
          ],
          "font": {
           "color": "#2a3f5f"
          },
          "geo": {
           "bgcolor": "white",
           "lakecolor": "white",
           "landcolor": "#E5ECF6",
           "showlakes": true,
           "showland": true,
           "subunitcolor": "white"
          },
          "hoverlabel": {
           "align": "left"
          },
          "hovermode": "closest",
          "mapbox": {
           "style": "light"
          },
          "paper_bgcolor": "white",
          "plot_bgcolor": "#E5ECF6",
          "polar": {
           "angularaxis": {
            "gridcolor": "white",
            "linecolor": "white",
            "ticks": ""
           },
           "bgcolor": "#E5ECF6",
           "radialaxis": {
            "gridcolor": "white",
            "linecolor": "white",
            "ticks": ""
           }
          },
          "scene": {
           "xaxis": {
            "backgroundcolor": "#E5ECF6",
            "gridcolor": "white",
            "gridwidth": 2,
            "linecolor": "white",
            "showbackground": true,
            "ticks": "",
            "zerolinecolor": "white"
           },
           "yaxis": {
            "backgroundcolor": "#E5ECF6",
            "gridcolor": "white",
            "gridwidth": 2,
            "linecolor": "white",
            "showbackground": true,
            "ticks": "",
            "zerolinecolor": "white"
           },
           "zaxis": {
            "backgroundcolor": "#E5ECF6",
            "gridcolor": "white",
            "gridwidth": 2,
            "linecolor": "white",
            "showbackground": true,
            "ticks": "",
            "zerolinecolor": "white"
           }
          },
          "shapedefaults": {
           "line": {
            "color": "#2a3f5f"
           }
          },
          "ternary": {
           "aaxis": {
            "gridcolor": "white",
            "linecolor": "white",
            "ticks": ""
           },
           "baxis": {
            "gridcolor": "white",
            "linecolor": "white",
            "ticks": ""
           },
           "bgcolor": "#E5ECF6",
           "caxis": {
            "gridcolor": "white",
            "linecolor": "white",
            "ticks": ""
           }
          },
          "title": {
           "x": 0.05
          },
          "xaxis": {
           "automargin": true,
           "gridcolor": "white",
           "linecolor": "white",
           "ticks": "",
           "title": {
            "standoff": 15
           },
           "zerolinecolor": "white",
           "zerolinewidth": 2
          },
          "yaxis": {
           "automargin": true,
           "gridcolor": "white",
           "linecolor": "white",
           "ticks": "",
           "title": {
            "standoff": 15
           },
           "zerolinecolor": "white",
           "zerolinewidth": 2
          }
         }
        },
        "title": {
         "text": "Mean Price over Time"
        },
        "xaxis": {
         "anchor": "y",
         "domain": [
          0,
          1
         ],
         "title": {
          "text": "time"
         }
        },
        "yaxis": {
         "anchor": "x",
         "domain": [
          0,
          1
         ],
         "title": {
          "text": "sale_price"
         }
        }
       }
      }
     },
     "metadata": {},
     "output_type": "display_data"
    }
   ],
   "source": [
    "#plot mean price over time\n",
    "fig2 = px.line(recent_sales,x='time',y='sale_price')\n",
    "fig2.update_layout(title_text='Mean Price over Time')\n",
    "fig2.show()"
   ]
  },
  {
   "cell_type": "markdown",
   "metadata": {},
   "source": []
  },
  {
   "cell_type": "code",
   "execution_count": 9,
   "metadata": {},
   "outputs": [
    {
     "ename": "ValueError",
     "evalue": "Value of 'x' is not the name of a column in 'data_frame'. Expected one of ['asset_id', 'sale_price', 'trait_n', 'Clothes_rarity', 'Ears_rarity', 'Eyes_rarity', 'Fur_rarity', 'Hat_rarity', 'Mouth_rarity', 'trait_n_rarity', 'factoral_rarity', 'rarity_rank'] but received: time",
     "output_type": "error",
     "traceback": [
      "\u001b[0;31m---------------------------------------------------------------------------\u001b[0m",
      "\u001b[0;31mValueError\u001b[0m                                Traceback (most recent call last)",
      "\u001b[0;32m/var/folders/05/dmkx5q1d5b73f0h3hs355b_80000gn/T/ipykernel_2049/3416488018.py\u001b[0m in \u001b[0;36m<module>\u001b[0;34m\u001b[0m\n\u001b[1;32m      2\u001b[0m \u001b[0mcomulative_sales\u001b[0m \u001b[0;34m=\u001b[0m \u001b[0mrecent_sales\u001b[0m\u001b[0;34m.\u001b[0m\u001b[0mgroupby\u001b[0m\u001b[0;34m(\u001b[0m\u001b[0;34m'asset_id'\u001b[0m\u001b[0;34m)\u001b[0m\u001b[0;34m.\u001b[0m\u001b[0msum\u001b[0m\u001b[0;34m(\u001b[0m\u001b[0;34m)\u001b[0m\u001b[0;34m.\u001b[0m\u001b[0mreset_index\u001b[0m\u001b[0;34m(\u001b[0m\u001b[0;34m)\u001b[0m\u001b[0;34m\u001b[0m\u001b[0;34m\u001b[0m\u001b[0m\n\u001b[1;32m      3\u001b[0m \u001b[0;31m#plot number of sales over time\u001b[0m\u001b[0;34m\u001b[0m\u001b[0;34m\u001b[0m\u001b[0m\n\u001b[0;32m----> 4\u001b[0;31m \u001b[0mfig3\u001b[0m \u001b[0;34m=\u001b[0m \u001b[0mpx\u001b[0m\u001b[0;34m.\u001b[0m\u001b[0mline\u001b[0m\u001b[0;34m(\u001b[0m\u001b[0mcomulative_sales\u001b[0m\u001b[0;34m,\u001b[0m\u001b[0mx\u001b[0m\u001b[0;34m=\u001b[0m\u001b[0;34m'time'\u001b[0m\u001b[0;34m,\u001b[0m\u001b[0my\u001b[0m\u001b[0;34m=\u001b[0m\u001b[0;34m'sale_price'\u001b[0m\u001b[0;34m)\u001b[0m\u001b[0;34m\u001b[0m\u001b[0;34m\u001b[0m\u001b[0m\n\u001b[0m\u001b[1;32m      5\u001b[0m \u001b[0mfig3\u001b[0m\u001b[0;34m.\u001b[0m\u001b[0mupdate_layout\u001b[0m\u001b[0;34m(\u001b[0m\u001b[0mtitle_text\u001b[0m\u001b[0;34m=\u001b[0m\u001b[0;34m'Number of Sales over Time'\u001b[0m\u001b[0;34m)\u001b[0m\u001b[0;34m\u001b[0m\u001b[0;34m\u001b[0m\u001b[0m\n\u001b[1;32m      6\u001b[0m \u001b[0mfig3\u001b[0m\u001b[0;34m.\u001b[0m\u001b[0mshow\u001b[0m\u001b[0;34m(\u001b[0m\u001b[0;34m)\u001b[0m\u001b[0;34m\u001b[0m\u001b[0;34m\u001b[0m\u001b[0m\n",
      "\u001b[0;32m~/opt/anaconda3/lib/python3.9/site-packages/plotly/express/_chart_types.py\u001b[0m in \u001b[0;36mline\u001b[0;34m(data_frame, x, y, line_group, color, line_dash, symbol, hover_name, hover_data, custom_data, text, facet_row, facet_col, facet_col_wrap, facet_row_spacing, facet_col_spacing, error_x, error_x_minus, error_y, error_y_minus, animation_frame, animation_group, category_orders, labels, orientation, color_discrete_sequence, color_discrete_map, line_dash_sequence, line_dash_map, symbol_sequence, symbol_map, markers, log_x, log_y, range_x, range_y, line_shape, render_mode, title, template, width, height)\u001b[0m\n\u001b[1;32m    260\u001b[0m     \u001b[0ma\u001b[0m \u001b[0mpolyline\u001b[0m \u001b[0mmark\u001b[0m \u001b[0;32min\u001b[0m \u001b[0;36m2\u001b[0m\u001b[0mD\u001b[0m \u001b[0mspace\u001b[0m\u001b[0;34m.\u001b[0m\u001b[0;34m\u001b[0m\u001b[0;34m\u001b[0m\u001b[0m\n\u001b[1;32m    261\u001b[0m     \"\"\"\n\u001b[0;32m--> 262\u001b[0;31m     \u001b[0;32mreturn\u001b[0m \u001b[0mmake_figure\u001b[0m\u001b[0;34m(\u001b[0m\u001b[0margs\u001b[0m\u001b[0;34m=\u001b[0m\u001b[0mlocals\u001b[0m\u001b[0;34m(\u001b[0m\u001b[0;34m)\u001b[0m\u001b[0;34m,\u001b[0m \u001b[0mconstructor\u001b[0m\u001b[0;34m=\u001b[0m\u001b[0mgo\u001b[0m\u001b[0;34m.\u001b[0m\u001b[0mScatter\u001b[0m\u001b[0;34m)\u001b[0m\u001b[0;34m\u001b[0m\u001b[0;34m\u001b[0m\u001b[0m\n\u001b[0m\u001b[1;32m    263\u001b[0m \u001b[0;34m\u001b[0m\u001b[0m\n\u001b[1;32m    264\u001b[0m \u001b[0;34m\u001b[0m\u001b[0m\n",
      "\u001b[0;32m~/opt/anaconda3/lib/python3.9/site-packages/plotly/express/_core.py\u001b[0m in \u001b[0;36mmake_figure\u001b[0;34m(args, constructor, trace_patch, layout_patch)\u001b[0m\n\u001b[1;32m   1943\u001b[0m     \u001b[0mapply_default_cascade\u001b[0m\u001b[0;34m(\u001b[0m\u001b[0margs\u001b[0m\u001b[0;34m)\u001b[0m\u001b[0;34m\u001b[0m\u001b[0;34m\u001b[0m\u001b[0m\n\u001b[1;32m   1944\u001b[0m \u001b[0;34m\u001b[0m\u001b[0m\n\u001b[0;32m-> 1945\u001b[0;31m     \u001b[0margs\u001b[0m \u001b[0;34m=\u001b[0m \u001b[0mbuild_dataframe\u001b[0m\u001b[0;34m(\u001b[0m\u001b[0margs\u001b[0m\u001b[0;34m,\u001b[0m \u001b[0mconstructor\u001b[0m\u001b[0;34m)\u001b[0m\u001b[0;34m\u001b[0m\u001b[0;34m\u001b[0m\u001b[0m\n\u001b[0m\u001b[1;32m   1946\u001b[0m     \u001b[0;32mif\u001b[0m \u001b[0mconstructor\u001b[0m \u001b[0;32min\u001b[0m \u001b[0;34m[\u001b[0m\u001b[0mgo\u001b[0m\u001b[0;34m.\u001b[0m\u001b[0mTreemap\u001b[0m\u001b[0;34m,\u001b[0m \u001b[0mgo\u001b[0m\u001b[0;34m.\u001b[0m\u001b[0mSunburst\u001b[0m\u001b[0;34m,\u001b[0m \u001b[0mgo\u001b[0m\u001b[0;34m.\u001b[0m\u001b[0mIcicle\u001b[0m\u001b[0;34m]\u001b[0m \u001b[0;32mand\u001b[0m \u001b[0margs\u001b[0m\u001b[0;34m[\u001b[0m\u001b[0;34m\"path\"\u001b[0m\u001b[0;34m]\u001b[0m \u001b[0;32mis\u001b[0m \u001b[0;32mnot\u001b[0m \u001b[0;32mNone\u001b[0m\u001b[0;34m:\u001b[0m\u001b[0;34m\u001b[0m\u001b[0;34m\u001b[0m\u001b[0m\n\u001b[1;32m   1947\u001b[0m         \u001b[0margs\u001b[0m \u001b[0;34m=\u001b[0m \u001b[0mprocess_dataframe_hierarchy\u001b[0m\u001b[0;34m(\u001b[0m\u001b[0margs\u001b[0m\u001b[0;34m)\u001b[0m\u001b[0;34m\u001b[0m\u001b[0;34m\u001b[0m\u001b[0m\n",
      "\u001b[0;32m~/opt/anaconda3/lib/python3.9/site-packages/plotly/express/_core.py\u001b[0m in \u001b[0;36mbuild_dataframe\u001b[0;34m(args, constructor)\u001b[0m\n\u001b[1;32m   1403\u001b[0m     \u001b[0;31m# now that things have been prepped, we do the systematic rewriting of `args`\u001b[0m\u001b[0;34m\u001b[0m\u001b[0;34m\u001b[0m\u001b[0m\n\u001b[1;32m   1404\u001b[0m \u001b[0;34m\u001b[0m\u001b[0m\n\u001b[0;32m-> 1405\u001b[0;31m     df_output, wide_id_vars = process_args_into_dataframe(\n\u001b[0m\u001b[1;32m   1406\u001b[0m         \u001b[0margs\u001b[0m\u001b[0;34m,\u001b[0m \u001b[0mwide_mode\u001b[0m\u001b[0;34m,\u001b[0m \u001b[0mvar_name\u001b[0m\u001b[0;34m,\u001b[0m \u001b[0mvalue_name\u001b[0m\u001b[0;34m\u001b[0m\u001b[0;34m\u001b[0m\u001b[0m\n\u001b[1;32m   1407\u001b[0m     )\n",
      "\u001b[0;32m~/opt/anaconda3/lib/python3.9/site-packages/plotly/express/_core.py\u001b[0m in \u001b[0;36mprocess_args_into_dataframe\u001b[0;34m(args, wide_mode, var_name, value_name)\u001b[0m\n\u001b[1;32m   1205\u001b[0m                         \u001b[0;32mif\u001b[0m \u001b[0margument\u001b[0m \u001b[0;34m==\u001b[0m \u001b[0;34m\"index\"\u001b[0m\u001b[0;34m:\u001b[0m\u001b[0;34m\u001b[0m\u001b[0;34m\u001b[0m\u001b[0m\n\u001b[1;32m   1206\u001b[0m                             \u001b[0merr_msg\u001b[0m \u001b[0;34m+=\u001b[0m \u001b[0;34m\"\\n To use the index, pass it in directly as `df.index`.\"\u001b[0m\u001b[0;34m\u001b[0m\u001b[0;34m\u001b[0m\u001b[0m\n\u001b[0;32m-> 1207\u001b[0;31m                         \u001b[0;32mraise\u001b[0m \u001b[0mValueError\u001b[0m\u001b[0;34m(\u001b[0m\u001b[0merr_msg\u001b[0m\u001b[0;34m)\u001b[0m\u001b[0;34m\u001b[0m\u001b[0;34m\u001b[0m\u001b[0m\n\u001b[0m\u001b[1;32m   1208\u001b[0m                 \u001b[0;32melif\u001b[0m \u001b[0mlength\u001b[0m \u001b[0;32mand\u001b[0m \u001b[0mlen\u001b[0m\u001b[0;34m(\u001b[0m\u001b[0mdf_input\u001b[0m\u001b[0;34m[\u001b[0m\u001b[0margument\u001b[0m\u001b[0;34m]\u001b[0m\u001b[0;34m)\u001b[0m \u001b[0;34m!=\u001b[0m \u001b[0mlength\u001b[0m\u001b[0;34m:\u001b[0m\u001b[0;34m\u001b[0m\u001b[0;34m\u001b[0m\u001b[0m\n\u001b[1;32m   1209\u001b[0m                     raise ValueError(\n",
      "\u001b[0;31mValueError\u001b[0m: Value of 'x' is not the name of a column in 'data_frame'. Expected one of ['asset_id', 'sale_price', 'trait_n', 'Clothes_rarity', 'Ears_rarity', 'Eyes_rarity', 'Fur_rarity', 'Hat_rarity', 'Mouth_rarity', 'trait_n_rarity', 'factoral_rarity', 'rarity_rank'] but received: time"
     ]
    }
   ],
   "source": [
    "#create comulative sales\n",
    "comulative_sales = recent_sales.groupby('asset_id').sum().reset_index()\n",
    "#plot number of sales over time\n",
    "fig3 = px.line(comulative_sales,x='time',y='sale_price')\n",
    "fig3.update_layout(title_text='Number of Sales over Time')\n",
    "fig3.show()\n",
    "\n"
   ]
  },
  {
   "cell_type": "code",
   "execution_count": null,
   "metadata": {},
   "outputs": [],
   "source": []
  }
 ],
 "metadata": {
  "interpreter": {
   "hash": "631af46dfe2aa06b02954c5167e64b1b30970221264e4bda1b15943a0af226c8"
  },
  "kernelspec": {
   "display_name": "Python 3.9.7 64-bit ('base': conda)",
   "language": "python",
   "name": "python3"
  },
  "language_info": {
   "codemirror_mode": {
    "name": "ipython",
    "version": 3
   },
   "file_extension": ".py",
   "mimetype": "text/x-python",
   "name": "python",
   "nbconvert_exporter": "python",
   "pygments_lexer": "ipython3",
   "version": "3.9.7"
  },
  "orig_nbformat": 4
 },
 "nbformat": 4,
 "nbformat_minor": 2
}
