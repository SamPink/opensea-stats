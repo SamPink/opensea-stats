{
 "cells": [
  {
   "cell_type": "code",
   "execution_count": 1,
   "metadata": {},
   "outputs": [],
   "source": [
    "from twitter.gtp3 import request_davinci\n",
    "from twitter.sent_tweet import send_tweet\n",
    "from opensea.database import read_mongo\n",
    "import pandas as pd"
   ]
  },
  {
   "cell_type": "code",
   "execution_count": 14,
   "metadata": {},
   "outputs": [],
   "source": [
    "all_collections = [\n",
    "    \"cool-cats-nft\",\n",
    "    \"the-doge-pound\",\n",
    "    \"world-of-women-nft\",\n",
    "    \"supducks\",\n",
    "    \"cryptoadz-by-gremplin\",\n",
    "    \"rumble-kong-league\",\n",
    "]"
   ]
  },
  {
   "cell_type": "code",
   "execution_count": 21,
   "metadata": {},
   "outputs": [],
   "source": [
    "#read mongo for each of the collections in this array   \n",
    "best_listings = pd.DataFrame()\n",
    "for col in all_collections:\n",
    "    df = read_mongo(f\"{col}_bestvalue_opensea_listings\", return_id=False, return_df=True)\n",
    "    \n",
    "    best_listings = best_listings.append(df)"
   ]
  },
  {
   "cell_type": "code",
   "execution_count": 16,
   "metadata": {},
   "outputs": [],
   "source": [
    "#rank by listings value\n",
    "best_listings = best_listings.sort_values(by=[\"listing_value\"], ascending=False)"
   ]
  },
  {
   "cell_type": "code",
   "execution_count": 26,
   "metadata": {},
   "outputs": [],
   "source": [
    "#group by collection\n",
    "best_listings = best_listings.groupby([\"collection\"])\n",
    "\n",
    "#get mean listing value\n",
    "best_listings = best_listings.mean()"
   ]
  },
  {
   "cell_type": "code",
   "execution_count": 27,
   "metadata": {},
   "outputs": [
    {
     "data": {
      "text/plain": [
       "collection\n",
       "cool-cats-nft            0.489158\n",
       "cryptoadz-by-gremplin    0.362959\n",
       "rumble-kong-league       0.366099\n",
       "supducks                 0.408622\n",
       "the-doge-pound           0.541811\n",
       "world-of-women-nft       0.385201\n",
       "Name: listing_value, dtype: float64"
      ]
     },
     "execution_count": 27,
     "metadata": {},
     "output_type": "execute_result"
    }
   ],
   "source": [
    "best_listings"
   ]
  },
  {
   "cell_type": "code",
   "execution_count": null,
   "metadata": {},
   "outputs": [],
   "source": []
  }
 ],
 "metadata": {
  "interpreter": {
   "hash": "631af46dfe2aa06b02954c5167e64b1b30970221264e4bda1b15943a0af226c8"
  },
  "kernelspec": {
   "display_name": "Python 3.9.7 64-bit ('base': conda)",
   "language": "python",
   "name": "python3"
  },
  "language_info": {
   "codemirror_mode": {
    "name": "ipython",
    "version": 3
   },
   "file_extension": ".py",
   "mimetype": "text/x-python",
   "name": "python",
   "nbconvert_exporter": "python",
   "pygments_lexer": "ipython3",
   "version": "3.9.7"
  },
  "orig_nbformat": 4
 },
 "nbformat": 4,
 "nbformat_minor": 2
}
